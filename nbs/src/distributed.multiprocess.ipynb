{
 "cells": [
  {
   "cell_type": "code",
   "execution_count": null,
   "id": "524620c1",
   "metadata": {},
   "outputs": [],
   "source": [
    "#| default_exp distributed.multiprocess"
   ]
  },
  {
   "cell_type": "code",
   "execution_count": null,
   "id": "15392f6f",
   "metadata": {},
   "outputs": [],
   "source": [
    "#| hide\n",
    "%load_ext autoreload\n",
    "%autoreload 2"
   ]
  },
  {
   "cell_type": "markdown",
   "id": "12fa25a4",
   "metadata": {},
   "source": [
    "# MultiprocessBackend\n",
    "\n",
    "> The computational efficiency of `StatsForecast` can be tracked to its two core components:<br>1. Its `models` written in NumBa that optimizes Python code to reach C speeds.<br>2. Its `core.StatsForecast` class that enables distributed computing.<br>This is a low-level class enabling other distribution methods.<br><br>"
   ]
  },
  {
   "cell_type": "code",
   "execution_count": null,
   "id": "06732b96-bd80-4a4d-b9a2-4f95c7a82331",
   "metadata": {},
   "outputs": [],
   "source": [
    "#| hide\n",
    "from fastcore.test import test_eq\n",
    "from nbdev.showdoc import add_docs, show_doc"
   ]
  },
  {
   "cell_type": "code",
   "execution_count": null,
   "id": "bc16100a",
   "metadata": {},
   "outputs": [],
   "source": [
    "#| export\n",
    "from typing import Any\n",
    "\n",
    "from statsforecast.core import _StatsForecast, ParallelBackend"
   ]
  },
  {
   "cell_type": "code",
   "execution_count": null,
   "id": "6d8d5b82-2be9-41f5-8cd0-3903d0761e09",
   "metadata": {},
   "outputs": [],
   "source": [
    "#| export\n",
    "\n",
    "# This parent class holds common `forecast` and `cross_validation` methods \n",
    "# from `core.StatsForecast` to enable the `FugueBackend` and the `RayBackend`.\n",
    "\n",
    "# This Parent class is inherited by [FugueBakend](https://nixtla.github.io/statsforecast/distributed.fugue.html) \n",
    "# and [RayBackend](https://nixtla.github.io/statsforecast/distributed.ray.html).\n",
    "\n",
    "class MultiprocessBackend(ParallelBackend):\n",
    "    \"\"\"MultiprocessBackend Parent Class for Distributed Computation.\n",
    "\n",
    "    Parameters\n",
    "    ----------\n",
    "    n_jobs : int\n",
    "        Number of jobs used in the parallel processing, use -1 for all cores.\n",
    "    \"\"\"\n",
    "    def __init__(self, n_jobs: int) -> None:\n",
    "        self.n_jobs = n_jobs\n",
    "        super().__init__()\n",
    "\n",
    "    def forecast(self, df, models, freq, fallback_model=None, **kwargs: Any) -> Any:\n",
    "        model = _StatsForecast(models=models, freq=freq, \n",
    "                              fallback_model=fallback_model, n_jobs=self.n_jobs)\n",
    "        return model.forecast(df=df, **kwargs)\n",
    "\n",
    "    def cross_validation(self, df, models, freq, fallback_model=None, **kwargs: Any) -> Any:\n",
    "        model = _StatsForecast(models=models, freq=freq, \n",
    "                              fallback_model=fallback_model, n_jobs=self.n_jobs)\n",
    "        return model.cross_validation(df=df, **kwargs)"
   ]
  },
  {
   "cell_type": "code",
   "execution_count": null,
   "id": "ee6925a2",
   "metadata": {},
   "outputs": [],
   "source": [
    "show_doc(MultiprocessBackend, title_level=3)"
   ]
  },
  {
   "cell_type": "code",
   "execution_count": null,
   "id": "83a1bcd0-31bc-48db-a531-551927f463b8",
   "metadata": {},
   "outputs": [],
   "source": [
    "#| hide\n",
    "from statsforecast import StatsForecast\n",
    "from statsforecast.models import Naive\n",
    "from statsforecast.utils import generate_series"
   ]
  },
  {
   "cell_type": "code",
   "execution_count": null,
   "id": "2891e5fe-8d82-4eb9-8724-96317f157507",
   "metadata": {},
   "outputs": [],
   "source": [
    "#| hide\n",
    "df = generate_series(10).reset_index()\n",
    "df['unique_id'] = df['unique_id'].astype(str)\n",
    "\n",
    "class FailNaive:\n",
    "    def forecast(self):\n",
    "        pass\n",
    "    def __repr__(self):\n",
    "        return 'Naive'\n",
    "\n",
    "def test_mp_back(n_jobs=1):\n",
    "    backend = MultiprocessBackend(n_jobs=n_jobs)\n",
    "    #forecast\n",
    "    fcst = backend.forecast(df, models=[Naive()], freq='D', h=12)\n",
    "    fcst_stats = StatsForecast(models=[Naive()], freq='D').forecast(df=df, h=12)\n",
    "    test_eq(fcst, fcst_stats)\n",
    "    #crossvalidation\n",
    "    fcst = backend.cross_validation(df, models=[Naive()], freq='D', h=12)\n",
    "    fcst_stats = StatsForecast(models=[Naive()], freq='D').cross_validation(df=df, h=12)\n",
    "    test_eq(fcst, fcst_stats)\n",
    "    # fallback model\n",
    "    fcst = backend.forecast(df, models=[FailNaive()], freq='D', fallback_model=Naive(), h=12)\n",
    "    fcst_stats = StatsForecast(models=[Naive()], freq='D').forecast(df=df, h=12)\n",
    "    test_eq(fcst, fcst_stats)\n",
    "    \n",
    "    #cross validation\n",
    "    fcst_fugue = backend.cross_validation(df, models=[FailNaive()], freq='D', fallback_model=Naive(), h=12)\n",
    "    fcst_stats = StatsForecast(models=[Naive()], freq='D').cross_validation(df=df, h=12)\n",
    "    test_eq(fcst_fugue, fcst_stats)\n",
    "\n",
    "test_mp_back()"
   ]
  },
  {
   "cell_type": "code",
   "execution_count": null,
   "id": "db02904a-a0ab-4155-a035-fb98847ed84c",
   "metadata": {},
   "outputs": [],
   "source": [
    "#| hide\n",
    "#| eval: false\n",
    "test_mp_back(n_jobs=10)"
   ]
  }
 ],
 "metadata": {
  "kernelspec": {
   "display_name": "python3",
   "language": "python",
   "name": "python3"
  }
 },
 "nbformat": 4,
 "nbformat_minor": 5
}
