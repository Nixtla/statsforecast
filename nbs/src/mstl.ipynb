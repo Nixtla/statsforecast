{
 "cells": [
  {
   "cell_type": "code",
   "execution_count": null,
   "id": "a433f56c-136e-404c-a488-ddb05ab947c9",
   "metadata": {},
   "outputs": [],
   "source": [
    "#| default_exp mstl"
   ]
  },
  {
   "cell_type": "markdown",
   "id": "eb487f24-09bd-480d-b672-f8242f6f3850",
   "metadata": {},
   "source": [
    "# MSTL model"
   ]
  },
  {
   "cell_type": "code",
   "execution_count": null,
   "id": "1331cb98-d85f-4e56-b69e-4e193af054f2",
   "metadata": {},
   "outputs": [],
   "source": [
    "#| hide\n",
    "from nbdev.showdoc import add_docs, show_doc"
   ]
  },
  {
   "cell_type": "code",
   "execution_count": null,
   "id": "577a1635-ea8a-454e-a77e-a133e894baa8",
   "metadata": {},
   "outputs": [],
   "source": [
    "#| export\n",
    "from typing import Dict, List, Optional, Union\n",
    "\n",
    "import numpy as np\n",
    "import pandas as pd\n",
    "import statsmodels.api as sm"
   ]
  },
  {
   "cell_type": "code",
   "execution_count": null,
   "id": "b32c4213-8932-4f89-9f70-9375de577ca5",
   "metadata": {},
   "outputs": [],
   "source": [
    "#| export\n",
    "def mstl(\n",
    "        x: np.ndarray, # time series\n",
    "        period: Union[int, List[int]], # season length\n",
    "        blambda: Optional[float] = None, # box-cox transform\n",
    "        iterate: int = 2, # number of iterations\n",
    "        s_window: Optional[np.ndarray] = None, # seasonal window\n",
    "        stl_kwargs: Dict = dict(),\n",
    "    ):\n",
    "    if s_window is None:\n",
    "        s_window = 7 + 4 * np.arange(1, 7)\n",
    "    origx = x\n",
    "    n = len(x)\n",
    "    if isinstance(period, int):\n",
    "        msts = [period]\n",
    "    else:\n",
    "        msts = sorted(period)\n",
    "    if len(msts) == 1:\n",
    "        iterate = 1\n",
    "    if x.ndim == 2:\n",
    "        x = x[:, 0]\n",
    "    if np.isnan(x).any():\n",
    "        raise Exception(\n",
    "            '`mstl` cannot handle missing values. '\n",
    "            'Please raise an issue to include this feature.'\n",
    "        ) # we should interpolate here\n",
    "    if blambda is not None:\n",
    "        raise Exception(\n",
    "            '`blambda` not implemented yet. ' \n",
    "            'Please rise an issue to include this feature.'\n",
    "        )\n",
    "    stl_kwargs = {'seasonal_deg': 0, **stl_kwargs}\n",
    "    if msts[0] > 1:\n",
    "        seas = np.zeros((len(msts), n))\n",
    "        deseas = np.copy(x)\n",
    "        if len(s_window) == 1:\n",
    "            s_window = np.repeat(s_window, len(msts))\n",
    "        for j in range(iterate):\n",
    "            for i, seas_ in enumerate(msts, start=0):\n",
    "                deseas = deseas + seas[i]\n",
    "                fit = sm.tsa.STL(deseas, period=seas_, seasonal=s_window[i], **stl_kwargs).fit()\n",
    "                seas[i] = fit.seasonal\n",
    "                deseas = deseas - seas[i]\n",
    "        trend = fit.trend\n",
    "    else:\n",
    "        try:\n",
    "            from supersmoother import SuperSmoother\n",
    "        except ImportError as e:\n",
    "            print('supersmoother is required for mstl with period=1')\n",
    "            raise e\n",
    "        deseas = x\n",
    "        t = 1 + np.arange(n)\n",
    "        trend = SuperSmoother().fit(t, x).predict(t)\n",
    "    deseas[np.isnan(origx)] = np.nan\n",
    "    remainder = deseas - trend\n",
    "    output = {'data': origx, 'trend': trend}\n",
    "    if msts is not None and msts[0] > 1:\n",
    "        if len(msts) == 1:\n",
    "            output['seasonal'] = seas[0]\n",
    "        else:\n",
    "            for i, seas_ in enumerate(msts, start=0):\n",
    "                output[f'seasonal{seas_}'] = seas[i]\n",
    "    output['remainder'] = remainder\n",
    "    return pd.DataFrame(output)"
   ]
  },
  {
   "cell_type": "code",
   "execution_count": null,
   "id": "fcd2c573-1f1b-4c48-b658-c8e781e07188",
   "metadata": {},
   "outputs": [],
   "source": [
    "#| hide\n",
    "x = np.arange(1, 11)\n",
    "mstl(x, 12)"
   ]
  },
  {
   "cell_type": "code",
   "execution_count": null,
   "id": "4f868909-d1e5-4e65-a1ee-04b9f591965e",
   "metadata": {},
   "outputs": [],
   "source": [
    "#| hide\n",
    "from statsforecast.utils import AirPassengers as ap"
   ]
  },
  {
   "cell_type": "code",
   "execution_count": null,
   "id": "6f235bbf-a7cf-4c99-8793-4c6a063b8ec4",
   "metadata": {},
   "outputs": [],
   "source": [
    "#| hide\n",
    "decomposition = mstl(ap, 12)\n",
    "decomposition.plot()"
   ]
  },
  {
   "cell_type": "code",
   "execution_count": null,
   "id": "12f02948-52ae-4d98-85e4-de003dcb136b",
   "metadata": {},
   "outputs": [],
   "source": [
    "#| hide\n",
    "decomposition_stl_trend = mstl(ap, 12, stl_kwargs={'trend': 27})\n",
    "decomposition_stl_trend.plot()"
   ]
  },
  {
   "cell_type": "code",
   "execution_count": null,
   "id": "ae8c2ad3-e0fe-422d-8b72-94e65e404112",
   "metadata": {},
   "outputs": [],
   "source": [
    "#| hide\n",
    "decomposition_trend = mstl(ap, 1)\n",
    "decomposition_trend.plot()"
   ]
  },
  {
   "cell_type": "code",
   "execution_count": null,
   "id": "01c3cae8-f111-4163-812d-6d6e35782f38",
   "metadata": {},
   "outputs": [],
   "source": [
    "#| hide\n",
    "url = \"https://raw.githubusercontent.com/tidyverts/tsibbledata/master/data-raw/vic_elec/VIC2015/demand.csv\"\n",
    "df = pd.read_csv(url)\n",
    "df[\"Date\"] = df[\"Date\"].apply(\n",
    "    lambda x: pd.Timestamp(\"1899-12-30\") + pd.Timedelta(x, unit=\"days\")\n",
    ")\n",
    "df[\"ds\"] = df[\"Date\"] + pd.to_timedelta((df[\"Period\"] - 1) * 30, unit=\"m\")\n",
    "timeseries = df[[\"ds\", \"OperationalLessIndustrial\"]]\n",
    "timeseries.columns = [\n",
    "    \"ds\",\n",
    "    \"y\",\n",
    "]  # Rename to OperationalLessIndustrial to y for simplicity.\n",
    "\n",
    "# Filter for first 149 days of 2012.\n",
    "start_date = pd.to_datetime(\"2012-01-01\")\n",
    "end_date = start_date + pd.Timedelta(\"149D\")\n",
    "mask = (timeseries[\"ds\"] >= start_date) & (timeseries[\"ds\"] < end_date)\n",
    "timeseries = timeseries[mask]\n",
    "\n",
    "# Resample to hourly\n",
    "timeseries = timeseries.set_index(\"ds\").resample(\"H\").sum()\n",
    "timeseries.head()\n",
    "\n",
    "# decomposition\n",
    "decomposition = mstl(timeseries['y'].values, [24, 24 * 7]).tail(24 * 7 * 4)\n",
    "decomposition.plot()"
   ]
  }
 ],
 "metadata": {
  "kernelspec": {
   "display_name": "python3",
   "language": "python",
   "name": "python3"
  }
 },
 "nbformat": 4,
 "nbformat_minor": 5
}
