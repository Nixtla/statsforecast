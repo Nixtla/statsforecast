{
 "cells": [
  {
   "cell_type": "code",
   "execution_count": null,
   "id": "8f88444d-5df2-4352-ac17-2980f20570c4",
   "metadata": {},
   "outputs": [],
   "source": [
    "#| default_exp _lib"
   ]
  },
  {
   "cell_type": "code",
   "execution_count": null,
   "id": "ef688252-eb1e-4269-b6fc-10e9ff842965",
   "metadata": {},
   "outputs": [],
   "source": [
    "#| export\n",
    "import ctypes\n",
    "import platform\n",
    "import sys\n",
    "\n",
    "import numpy as np"
   ]
  },
  {
   "cell_type": "code",
   "execution_count": null,
   "id": "a6d934bd-0784-4cf8-8f9e-d1abe7de4710",
   "metadata": {},
   "outputs": [],
   "source": [
    "#| exporti\n",
    "def _data_as_double_ptr(x):\n",
    "    x = np.asarray(x, dtype=np.float64)\n",
    "    return x.ctypes.data_as(ctypes.POINTER(ctypes.c_double))\n",
    "\n",
    "def _data_as_int_ptr(x):\n",
    "    x = np.asarray(x, dtype=np.intc)\n",
    "    return x.ctypes.data_as(ctypes.POINTER(ctypes.c_int))\n",
    "\n",
    "if sys.version_info < (3, 10):\n",
    "    from importlib_resources import files\n",
    "else:\n",
    "    from importlib.resources import files\n",
    "\n",
    "if platform.system() in (\"Windows\", \"Microsoft\"):\n",
    "    _prefix = \"Release\"\n",
    "    _extension = \"dll\"\n",
    "else:\n",
    "    _prefix = \"\"\n",
    "    _extension = \"so\"\n",
    "\n",
    "_LIB = ctypes.CDLL(\n",
    "    str(files(\"statsforecast\") / \"lib\" / _prefix / f\"libstatsforecast.{_extension}\")\n",
    ")"
   ]
  }
 ],
 "metadata": {
  "kernelspec": {
   "display_name": "python3",
   "language": "python",
   "name": "python3"
  }
 },
 "nbformat": 4,
 "nbformat_minor": 5
}
