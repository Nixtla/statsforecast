{
 "cells": [
  {
   "cell_type": "code",
   "execution_count": null,
   "id": "eb55820a-551f-45e6-b6a8-c8f2d868aa32",
   "metadata": {},
   "outputs": [],
   "source": [
    "#| hide\n",
    "%load_ext autoreload\n",
    "%autoreload 2"
   ]
  },
  {
   "cell_type": "code",
   "execution_count": null,
   "id": "1f64b6ea-6caa-4fb9-9933-6f0a71597d49",
   "metadata": {},
   "outputs": [],
   "source": [
    "#| default_exp feature_engineering"
   ]
  },
  {
   "cell_type": "markdown",
   "id": "485b9efa-4990-44f0-bf12-f62ecdf7e947",
   "metadata": {},
   "source": [
    "# Feature engineering\n",
    "> Generate features for downstream models"
   ]
  },
  {
   "cell_type": "code",
   "execution_count": null,
   "id": "1430903c-29da-4b7e-b7ab-626273bdb727",
   "metadata": {},
   "outputs": [],
   "source": [
    "#| export\n",
    "from typing import Tuple\n",
    "\n",
    "from utilsforecast.compat import DataFrame, pl, pl_DataFrame\n",
    "from utilsforecast.processing import (\n",
    "    drop_index_if_pandas,\n",
    "    horizontal_concat,\n",
    "    maybe_compute_sort_indices,\n",
    "    take_rows,\n",
    "    vertical_concat,\n",
    ")\n",
    "\n",
    "from statsforecast import StatsForecast\n",
    "from statsforecast.models import MSTL, _predict_mstl_components"
   ]
  },
  {
   "cell_type": "code",
   "execution_count": null,
   "id": "81b403d8-8450-4d2e-8bba-b4e9abd82dbf",
   "metadata": {},
   "outputs": [],
   "source": [
    "#| export\n",
    "def mstl_decomposition(\n",
    "    df: DataFrame,\n",
    "    model: MSTL,\n",
    "    freq: str,\n",
    "    h: int,    \n",
    ") -> Tuple[DataFrame, DataFrame]:\n",
    "    \"\"\"Decompose the series into trend and seasonal using the MSTL model.\n",
    "\n",
    "    Parameters\n",
    "    ----------\n",
    "    df : pandas or polars DataFrame\n",
    "        DataFrame with columns [`unique_id`, `ds`, `y`].\n",
    "    model : statsforecast MSTL\n",
    "        Model to use for the decomposition.\n",
    "    freq : str\n",
    "        Frequency of the data (pandas alias)\n",
    "    h : int\n",
    "        Forecast horizon.        \n",
    "\n",
    "    Returns\n",
    "    -------\n",
    "    train_df : pandas or polars DataFrame\n",
    "        Original dataframe with the 'trend' and 'seasonal' columns added.\n",
    "    X_df : pandas or polars DataFrame\n",
    "        Future dataframe to be provided to the predict method through `X_df`.\n",
    "    \"\"\"\n",
    "    if not isinstance(model, MSTL):\n",
    "        raise ValueError(f'`model` must be an MSTL instance, got {type(model)}')\n",
    "    sort_idxs = maybe_compute_sort_indices(df, 'unique_id', 'ds')\n",
    "    if sort_idxs is not None:\n",
    "        df = take_rows(df, sort_idxs)\n",
    "    df = drop_index_if_pandas(df)\n",
    "    sf = StatsForecast(models=[model], freq=freq)\n",
    "    sf.fit(df=df)\n",
    "    X_df = sf._make_future_df(h=h)\n",
    "    train_features = []\n",
    "    future_features = []\n",
    "    df_constructor = type(df)\n",
    "    seas_cols = [c for c in sf.fitted_[0, 0].model_.columns if c.startswith('seasonal')]\n",
    "    for fitted_model in sf.fitted_[:, 0]:\n",
    "        train_features.append(fitted_model.model_[['trend'] + seas_cols])\n",
    "        seas_comp = _predict_mstl_components(fitted_model.model_, h, model.season_length)\n",
    "        future_df = df_constructor({\n",
    "            'trend': fitted_model.trend_forecaster.predict(h)['mean'],\n",
    "            **dict(zip(seas_cols, seas_comp.T)),\n",
    "        })\n",
    "        future_features.append(future_df)\n",
    "    train_features = vertical_concat(train_features, match_categories=False)\n",
    "    if isinstance(df, pl_DataFrame):\n",
    "        train_features = pl.from_pandas(train_features)\n",
    "    train_df = horizontal_concat([df, train_features])\n",
    "    future_features = vertical_concat(future_features, match_categories=False)\n",
    "    X_df = horizontal_concat([X_df, future_features])\n",
    "    return train_df, X_df"
   ]
  },
  {
   "cell_type": "code",
   "execution_count": null,
   "id": "cfd4e3fd-c60a-499f-9816-f9923feddba8",
   "metadata": {},
   "outputs": [],
   "source": [
    "import pandas as pd\n",
    "from fastcore.test import test_fail\n",
    "from utilsforecast.losses import smape\n",
    "\n",
    "from statsforecast.models import Naive\n",
    "from statsforecast.utils import generate_series"
   ]
  },
  {
   "cell_type": "code",
   "execution_count": null,
   "id": "7bed5894-e512-414b-9fbf-5a1f3df44057",
   "metadata": {},
   "outputs": [],
   "source": [
    "series = generate_series(10, freq='D')\n",
    "series['unique_id'] = series['unique_id'].astype('int64')"
   ]
  },
  {
   "cell_type": "code",
   "execution_count": null,
   "id": "88dc1d7c-3594-490c-93e1-d57ded662247",
   "metadata": {},
   "outputs": [],
   "source": [
    "test_fail(lambda: mstl_decomposition(series, Naive(), 'D', 14), contains='must be an MSTL instance')"
   ]
  },
  {
   "cell_type": "code",
   "execution_count": null,
   "id": "4ac9c141-2221-43d7-82cc-2da7fbec0c43",
   "metadata": {},
   "outputs": [],
   "source": [
    "horizon = 14\n",
    "model = MSTL(season_length=7)\n",
    "series = series.sample(frac=1.0)\n",
    "train_df, X_df = mstl_decomposition(series, model, 'D', horizon)"
   ]
  },
  {
   "cell_type": "code",
   "execution_count": null,
   "id": "e1a1aab8-0351-4491-a468-1a14063f6f03",
   "metadata": {},
   "outputs": [],
   "source": [
    "series_pl = generate_series(10, freq='D', engine='polars')\n",
    "series_pl = series_pl.with_columns(unique_id=pl.col('unique_id').cast(pl.Int64))\n",
    "train_df_pl, X_df_pl = mstl_decomposition(series_pl, model, '1d', horizon)"
   ]
  },
  {
   "cell_type": "code",
   "execution_count": null,
   "id": "ff15faeb-2e47-4858-bc20-531a7c25f4b2",
   "metadata": {},
   "outputs": [],
   "source": [
    "pd.testing.assert_series_equal(\n",
    "    train_df.groupby('unique_id')['ds'].max() + pd.offsets.Day(),\n",
    "    X_df.groupby('unique_id')['ds'].min()\n",
    ")\n",
    "assert X_df.shape[0] == train_df['unique_id'].nunique() * horizon\n",
    "pd.testing.assert_frame_equal(train_df, train_df_pl.to_pandas())\n",
    "pd.testing.assert_frame_equal(X_df, X_df_pl.to_pandas())\n",
    "with_estimate = train_df_pl.with_columns(estimate=pl.col('trend') + pl.col('seasonal'))\n",
    "assert smape(with_estimate, models=['estimate'])['estimate'].mean() < 0.1"
   ]
  },
  {
   "cell_type": "code",
   "execution_count": null,
   "id": "fb35b3f1-9c67-4422-a4db-f5b51a246dac",
   "metadata": {},
   "outputs": [],
   "source": [
    "model = MSTL(season_length=[7, 28])\n",
    "train_df, X_df = mstl_decomposition(series, model, 'D', horizon)\n",
    "assert train_df.columns.intersection(X_df.columns).tolist() == ['unique_id', 'ds', 'trend', 'seasonal7', 'seasonal28']"
   ]
  }
 ],
 "metadata": {
  "kernelspec": {
   "display_name": "python3",
   "language": "python",
   "name": "python3"
  }
 },
 "nbformat": 4,
 "nbformat_minor": 5
}
