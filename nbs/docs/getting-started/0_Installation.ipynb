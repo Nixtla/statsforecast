{
 "cells": [
  {
   "attachments": {},
   "cell_type": "markdown",
   "id": "14f5686c-449b-4376-8c58-fc8141f4b0f8",
   "metadata": {},
   "source": [
    "# Install\n",
    "\n",
    "> Install StatsForecast with pip or conda"
   ]
  },
  {
   "cell_type": "markdown",
   "id": "6b6943b9-4738-4fef-b3d1-1f18664b4a6b",
   "metadata": {},
   "source": [
    "You can install the *released version* of `StatsForecast` from the [Python package index](https://pypi.org) with:\n",
    "\n",
    "```shell\n",
    "pip install statsforecast\n",
    "```\n",
    "\n",
    "or \n",
    "\n",
    "```shell\n",
    "conda install -c conda-forge statsforecast\n",
    "``` \n",
    "\n",
    ":::{.callout-warning}\n",
    "We are constantly updating StatsForecast, so we suggest fixing the version to avoid issues. `pip install statsforecast==\"1.0.0\"`\n",
    ":::\n",
    "\n",
    ":::{.callout-tip}\n",
    "We recommend installing your libraries inside a python virtual or [conda environment](https://docs.conda.io/projects/conda/en/latest/user-guide/install/macos.html).\n",
    ":::"
   ]
  },
  {
   "attachments": {},
   "cell_type": "markdown",
   "id": "02b9c8ff-5416-4197-b3ce-e416f27378b5",
   "metadata": {},
   "source": [
    "#### Extras\n",
    "\n",
    "The following features can also be installed by specifying the extra inside the install command, e.g. `pip install 'statsforecast[extra1,extra2]'`\n",
    "\n",
    "* **polars**: provide polars dataframes to StatsForecast.\n",
    "* **plotly**: use `StatsForecast.plot` with the plotly backend.\n",
    "* **dask**: perform distributed forecasting with dask.\n",
    "* **spark**: perform distributed forecasting with spark.\n",
    "* **ray**: perform distributed forecasting with ray."
   ]
  },
  {
   "cell_type": "markdown",
   "id": "b5b913e0-8013-445e-bd4c-1a0e404b7d19",
   "metadata": {},
   "source": [
    "#### Development version\n",
    "\n",
    "If you want to try out a new feature that hasn’t made it into a release yet you have the following options:\n",
    "\n",
    "* Install from our nightly wheels: `pip install --extra-index-url=http://nixtla-packages.s3-website.us-east-2.amazonaws.com --trusted-host nixtla-packages.s3-website.us-east-2.amazonaws.com statsforecast`\n",
    "* Install from github: `pip install git+https://github.com/Nixtla/statsforecast`. This requires that you have a C++ compiler installed, so we encourage you to try the previous option first."
   ]
  }
 ],
 "metadata": {
  "kernelspec": {
   "display_name": "python3",
   "language": "python",
   "name": "python3"
  }
 },
 "nbformat": 4,
 "nbformat_minor": 5
}
