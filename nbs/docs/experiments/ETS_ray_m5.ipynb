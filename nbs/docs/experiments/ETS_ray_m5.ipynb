{
 "cells": [
  {
   "cell_type": "markdown",
   "id": "14f5686c-449b-4376-8c58-fc8141f4b0f8",
   "metadata": {},
   "source": [
    "# Forecasting at Scale using ETS and ray (M5)\n",
    "\n",
    "> Forecast the M5 dataset"
   ]
  },
  {
   "cell_type": "markdown",
   "id": "664acaef-8fd6-4874-a3ef-ddf32dbbe67d",
   "metadata": {},
   "source": [
    "In this notebook we show how to use `StatsForecast` and `ray` to forecast thounsands of time series in less than 6 minutes (M5 dataset). Also, we show that `StatsForecast` has better performance in time and accuracy compared to [`Prophet` running on a Spark cluster](https://nixtlaverse.nixtla.io/statsforecast/docs/experiments/Prophet_spark_m5) using DataBricks.\n",
    "\n",
    "In this example, we used a ray cluster (AWS) of 11 instances of type m5.2xlarge (8 cores, 32 GB RAM)."
   ]
  },
  {
   "cell_type": "markdown",
   "id": "4041a403-0832-42a0-bf4c-976d42051498",
   "metadata": {},
   "source": [
    "## Installing StatsForecast Library"
   ]
  },
  {
   "cell_type": "code",
   "execution_count": null,
   "id": "40ca2a7b-ff16-4ada-aaa5-b5146770ec9d",
   "metadata": {},
   "outputs": [],
   "source": [
    "%%capture\n",
    "!pip install \"statsforecast[ray]\" neuralforecast s3fs pyarrow"
   ]
  },
  {
   "cell_type": "code",
   "execution_count": null,
   "id": "2de43a5e-5772-4182-a383-348435d9e928",
   "metadata": {},
   "outputs": [],
   "source": [
    "%%capture\n",
    "from time import time\n",
    "\n",
    "import pandas as pd\n",
    "from neuralforecast.data.datasets.m5 import M5, M5Evaluation\n",
    "from statsforecast import StatsForecast\n",
    "from statsforecast.models import ETS"
   ]
  },
  {
   "cell_type": "markdown",
   "id": "8c8fa3bf-ed6f-4a2a-a6fc-d1fd14dba8c1",
   "metadata": {},
   "source": [
    "## Download data"
   ]
  },
  {
   "cell_type": "markdown",
   "id": "2c704b76-79f6-4122-912d-07c52fa8df71",
   "metadata": {},
   "source": [
    "The example uses the [M5 dataset](https://github.com/Mcompetitions/M5-methods/blob/master/M5-Competitors-Guide.pdf). It consists of `30,490` bottom time series. "
   ]
  },
  {
   "cell_type": "code",
   "execution_count": null,
   "id": "53f05990-09f5-43a6-a6a1-522f783494db",
   "metadata": {},
   "outputs": [],
   "source": [
    "Y_df = pd.read_parquet('s3://m5-benchmarks/data/train/target.parquet')\n",
    "Y_df = Y_df.rename(columns={\n",
    "    'item_id': 'unique_id', \n",
    "    'timestamp': 'ds', \n",
    "    'demand': 'y'\n",
    "})\n",
    "Y_df['ds'] = pd.to_datetime(Y_df['ds'])"
   ]
  },
  {
   "cell_type": "code",
   "execution_count": null,
   "id": "afeeb277-3d1f-403b-a4cd-9eccf0f528ab",
   "metadata": {},
   "outputs": [
    {
     "data": {
      "text/html": [
       "<div>\n",
       "<style scoped>\n",
       "    .dataframe tbody tr th:only-of-type {\n",
       "        vertical-align: middle;\n",
       "    }\n",
       "\n",
       "    .dataframe tbody tr th {\n",
       "        vertical-align: top;\n",
       "    }\n",
       "\n",
       "    .dataframe thead th {\n",
       "        text-align: right;\n",
       "    }\n",
       "</style>\n",
       "<table border=\"1\" class=\"dataframe\">\n",
       "  <thead>\n",
       "    <tr style=\"text-align: right;\">\n",
       "      <th></th>\n",
       "      <th>unique_id</th>\n",
       "      <th>ds</th>\n",
       "      <th>y</th>\n",
       "    </tr>\n",
       "  </thead>\n",
       "  <tbody>\n",
       "    <tr>\n",
       "      <th>0</th>\n",
       "      <td>FOODS_1_001_CA_1</td>\n",
       "      <td>2011-01-29</td>\n",
       "      <td>3.0</td>\n",
       "    </tr>\n",
       "    <tr>\n",
       "      <th>1</th>\n",
       "      <td>FOODS_1_001_CA_1</td>\n",
       "      <td>2011-01-30</td>\n",
       "      <td>0.0</td>\n",
       "    </tr>\n",
       "    <tr>\n",
       "      <th>2</th>\n",
       "      <td>FOODS_1_001_CA_1</td>\n",
       "      <td>2011-01-31</td>\n",
       "      <td>0.0</td>\n",
       "    </tr>\n",
       "    <tr>\n",
       "      <th>3</th>\n",
       "      <td>FOODS_1_001_CA_1</td>\n",
       "      <td>2011-02-01</td>\n",
       "      <td>1.0</td>\n",
       "    </tr>\n",
       "    <tr>\n",
       "      <th>4</th>\n",
       "      <td>FOODS_1_001_CA_1</td>\n",
       "      <td>2011-02-02</td>\n",
       "      <td>4.0</td>\n",
       "    </tr>\n",
       "  </tbody>\n",
       "</table>\n",
       "</div>"
      ],
      "text/plain": [
       "          unique_id         ds    y\n",
       "0  FOODS_1_001_CA_1 2011-01-29  3.0\n",
       "1  FOODS_1_001_CA_1 2011-01-30  0.0\n",
       "2  FOODS_1_001_CA_1 2011-01-31  0.0\n",
       "3  FOODS_1_001_CA_1 2011-02-01  1.0\n",
       "4  FOODS_1_001_CA_1 2011-02-02  4.0"
      ]
     },
     "execution_count": null,
     "metadata": {},
     "output_type": "execute_result"
    }
   ],
   "source": [
    "Y_df.head()"
   ]
  },
  {
   "cell_type": "markdown",
   "id": "9a3065dc-a8f5-4ad0-be2a-39d5330d4369",
   "metadata": {},
   "source": [
    "Since the M5 dataset contains intermittent time series, we add a constant to avoid problems during the training phase. Later, we will substract the constant from the forecasts."
   ]
  },
  {
   "cell_type": "code",
   "execution_count": null,
   "id": "d29d104c-b700-4765-9d28-29be8223069e",
   "metadata": {},
   "outputs": [],
   "source": [
    "constant = 10\n",
    "Y_df['y'] += constant"
   ]
  },
  {
   "cell_type": "markdown",
   "id": "84a3ebeb-ad46-45cc-8d61-a7ba4302b975",
   "metadata": {},
   "source": [
    "## Train the model"
   ]
  },
  {
   "cell_type": "markdown",
   "id": "f8ac47fe-bc7a-4647-96e7-695cf5e09e1d",
   "metadata": {},
   "source": [
    "`StatsForecast` receives a list of models to fit each time series. Since we are dealing with Daily data, it would be benefitial to use 7 as seasonality. Observe that we need to pass the ray address to the `ray_address` argument."
   ]
  },
  {
   "cell_type": "code",
   "execution_count": null,
   "id": "8f9d7cd2-a791-45ff-8c04-5e8eef01b6a0",
   "metadata": {},
   "outputs": [],
   "source": [
    "fcst = StatsForecast(\n",
    "    df=Y_df, \n",
    "    models=[ETS(season_length=7, model='ZNA')], \n",
    "    freq='D', \n",
    "    #n_jobs=-1\n",
    "    ray_address='ray://ADDRESS:10001'\n",
    ")"
   ]
  },
  {
   "cell_type": "code",
   "execution_count": null,
   "id": "416f5590-ea0e-48f6-969d-8a4ce7ebd3ae",
   "metadata": {},
   "outputs": [
    {
     "name": "stderr",
     "output_type": "stream",
     "text": [
      "/home/ubuntu/miniconda/envs/ray/lib/python3.7/site-packages/ray/util/client/worker.py:618: UserWarning: More than 10MB of messages have been created to schedule tasks on the server. This can be slow on Ray Client due to communication overhead over the network. If you're running many fine-grained tasks, consider running them inside a single remote function. See the section on \"Too fine-grained tasks\" in the Ray Design Patterns document for more details: https://docs.google.com/document/d/167rnnDFIVRhHhK4mznEIemOtj63IOhtIPvSYaPgI4Fg/edit#heading=h.f7ins22n6nyl. If your functions frequently use large objects, consider storing the objects remotely with ray.put. An example of this is shown in the \"Closure capture of large / unserializable object\" section of the Ray Design Patterns document, available here: https://docs.google.com/document/d/167rnnDFIVRhHhK4mznEIemOtj63IOhtIPvSYaPgI4Fg/edit#heading=h.1afmymq455wu\n",
      "  UserWarning,\n"
     ]
    },
    {
     "name": "stdout",
     "output_type": "stream",
     "text": [
      "Minutes taken by StatsForecast using: 5.4817593971888225\n"
     ]
    }
   ],
   "source": [
    "init = time()\n",
    "Y_hat = fcst.forecast(28)\n",
    "end = time()\n",
    "print(f'Minutes taken by StatsForecast using: {(end - init) / 60}')"
   ]
  },
  {
   "cell_type": "markdown",
   "id": "11a25a2a-8868-4922-be1d-9d4bbaf35b58",
   "metadata": {},
   "source": [
    "`StatsForecast` and `ray` took only 5.48 minutes to train `30,490` time series, compared to 18.23 minutes for Prophet and Spark."
   ]
  },
  {
   "cell_type": "markdown",
   "id": "5a387123-f918-4cca-a6a6-21e85e9ddb00",
   "metadata": {},
   "source": [
    "We remove the constant."
   ]
  },
  {
   "cell_type": "code",
   "execution_count": null,
   "id": "dbde9199-7000-459d-8113-31cd7e46752d",
   "metadata": {},
   "outputs": [],
   "source": [
    "Y_hat['ETS'] -= constant"
   ]
  },
  {
   "cell_type": "markdown",
   "id": "9ad375c8-3c35-4f45-94c6-c7bf29c00bae",
   "metadata": {},
   "source": [
    "### Evaluating performance"
   ]
  },
  {
   "cell_type": "markdown",
   "id": "711993d6-018d-4bae-9837-32b09f8ff0bb",
   "metadata": {},
   "source": [
    "The M5 competition used the weighted root mean squared scaled error. You can find details of the metric [here](https://github.com/Mcompetitions/M5-methods/blob/master/M5-Competitors-Guide.pdf)."
   ]
  },
  {
   "cell_type": "code",
   "execution_count": null,
   "id": "c868a32d-4782-4c5f-8b54-e62427ffbb4b",
   "metadata": {},
   "outputs": [],
   "source": [
    "Y_hat = Y_hat.reset_index().set_index(['unique_id', 'ds']).unstack()\n",
    "Y_hat = Y_hat.droplevel(0, 1).reset_index()"
   ]
  },
  {
   "cell_type": "code",
   "execution_count": null,
   "id": "a091d2ca-7d84-4e72-9e14-790b028699c9",
   "metadata": {},
   "outputs": [
    {
     "name": "stderr",
     "output_type": "stream",
     "text": [
      "100%|███████████████████████████████████████████████████████████| 50.2M/50.2M [00:00<00:00, 77.1MiB/s]\n"
     ]
    }
   ],
   "source": [
    "*_, S_df = M5.load('./data')\n",
    "Y_hat = S_df.merge(Y_hat, how='left', on=['unique_id'])"
   ]
  },
  {
   "cell_type": "code",
   "execution_count": null,
   "id": "0f099644-99ce-4daa-8ad2-7ed1b7882af5",
   "metadata": {},
   "outputs": [
    {
     "data": {
      "text/html": [
       "<div>\n",
       "<style scoped>\n",
       "    .dataframe tbody tr th:only-of-type {\n",
       "        vertical-align: middle;\n",
       "    }\n",
       "\n",
       "    .dataframe tbody tr th {\n",
       "        vertical-align: top;\n",
       "    }\n",
       "\n",
       "    .dataframe thead th {\n",
       "        text-align: right;\n",
       "    }\n",
       "</style>\n",
       "<table border=\"1\" class=\"dataframe\">\n",
       "  <thead>\n",
       "    <tr style=\"text-align: right;\">\n",
       "      <th></th>\n",
       "      <th>wrmsse</th>\n",
       "    </tr>\n",
       "  </thead>\n",
       "  <tbody>\n",
       "    <tr>\n",
       "      <th>Total</th>\n",
       "      <td>0.677233</td>\n",
       "    </tr>\n",
       "    <tr>\n",
       "      <th>Level1</th>\n",
       "      <td>0.435558</td>\n",
       "    </tr>\n",
       "    <tr>\n",
       "      <th>Level2</th>\n",
       "      <td>0.522863</td>\n",
       "    </tr>\n",
       "    <tr>\n",
       "      <th>Level3</th>\n",
       "      <td>0.582109</td>\n",
       "    </tr>\n",
       "    <tr>\n",
       "      <th>Level4</th>\n",
       "      <td>0.488484</td>\n",
       "    </tr>\n",
       "    <tr>\n",
       "      <th>Level5</th>\n",
       "      <td>0.567825</td>\n",
       "    </tr>\n",
       "    <tr>\n",
       "      <th>Level6</th>\n",
       "      <td>0.587605</td>\n",
       "    </tr>\n",
       "    <tr>\n",
       "      <th>Level7</th>\n",
       "      <td>0.662774</td>\n",
       "    </tr>\n",
       "    <tr>\n",
       "      <th>Level8</th>\n",
       "      <td>0.647712</td>\n",
       "    </tr>\n",
       "    <tr>\n",
       "      <th>Level9</th>\n",
       "      <td>0.732107</td>\n",
       "    </tr>\n",
       "    <tr>\n",
       "      <th>Level10</th>\n",
       "      <td>1.013124</td>\n",
       "    </tr>\n",
       "    <tr>\n",
       "      <th>Level11</th>\n",
       "      <td>0.970465</td>\n",
       "    </tr>\n",
       "    <tr>\n",
       "      <th>Level12</th>\n",
       "      <td>0.916175</td>\n",
       "    </tr>\n",
       "  </tbody>\n",
       "</table>\n",
       "</div>"
      ],
      "text/plain": [
       "           wrmsse\n",
       "Total    0.677233\n",
       "Level1   0.435558\n",
       "Level2   0.522863\n",
       "Level3   0.582109\n",
       "Level4   0.488484\n",
       "Level5   0.567825\n",
       "Level6   0.587605\n",
       "Level7   0.662774\n",
       "Level8   0.647712\n",
       "Level9   0.732107\n",
       "Level10  1.013124\n",
       "Level11  0.970465\n",
       "Level12  0.916175"
      ]
     },
     "execution_count": null,
     "metadata": {},
     "output_type": "execute_result"
    }
   ],
   "source": [
    "M5Evaluation.evaluate(y_hat=Y_hat, directory='./data')"
   ]
  },
  {
   "cell_type": "markdown",
   "id": "abfe3afc-382e-4404-a607-8b95263e2bf4",
   "metadata": {},
   "source": [
    "Also, `StatsForecast` is more accurate than Prophet, since the overall WMRSSE is `0.68`, against `0.77` obtained by prophet."
   ]
  }
 ],
 "metadata": {
  "kernelspec": {
   "display_name": "python3",
   "language": "python",
   "name": "python3"
  }
 },
 "nbformat": 4,
 "nbformat_minor": 5
}
