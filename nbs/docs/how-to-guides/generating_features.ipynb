{
 "cells": [
  {
   "cell_type": "markdown",
   "id": "7fbdcf85-0c8e-4d8f-8e4a-e2ddace1533d",
   "metadata": {},
   "source": [
    "# Generating features\n",
    "> Leverage StatsForecast models to create features"
   ]
  },
  {
   "cell_type": "markdown",
   "id": "e631483a-5ffa-4698-b702-aade67aef415",
   "metadata": {},
   "source": [
    "Some models create internal representations of the series that can be useful for other models to use as inputs. One example is the `MSTL` model, which decomposes the series into trend and seasonal components. This guide shows you how to use the `mstl_decomposition` function to extract those features for training and then use their future values for inference."
   ]
  },
  {
   "cell_type": "code",
   "execution_count": null,
   "id": "0e81a578-8256-4e4c-aff2-62fdab04a756",
   "metadata": {},
   "outputs": [],
   "source": [
    "from functools import partial\n",
    "\n",
    "import pandas as pd\n",
    "import statsforecast\n",
    "from statsforecast import StatsForecast\n",
    "from statsforecast.feature_engineering import mstl_decomposition\n",
    "from statsforecast.models import ARIMA, MSTL\n",
    "from utilsforecast.evaluation import evaluate\n",
    "from utilsforecast.losses import smape, mase"
   ]
  },
  {
   "cell_type": "code",
   "execution_count": null,
   "id": "19cdfe2c-298b-402d-b6a7-9a3494e160d2",
   "metadata": {},
   "outputs": [
    {
     "data": {
      "text/html": [
       "<div>\n",
       "<style scoped>\n",
       "    .dataframe tbody tr th:only-of-type {\n",
       "        vertical-align: middle;\n",
       "    }\n",
       "\n",
       "    .dataframe tbody tr th {\n",
       "        vertical-align: top;\n",
       "    }\n",
       "\n",
       "    .dataframe thead th {\n",
       "        text-align: right;\n",
       "    }\n",
       "</style>\n",
       "<table border=\"1\" class=\"dataframe\">\n",
       "  <thead>\n",
       "    <tr style=\"text-align: right;\">\n",
       "      <th></th>\n",
       "      <th>unique_id</th>\n",
       "      <th>ds</th>\n",
       "      <th>y</th>\n",
       "    </tr>\n",
       "  </thead>\n",
       "  <tbody>\n",
       "    <tr>\n",
       "      <th>0</th>\n",
       "      <td>H1</td>\n",
       "      <td>1</td>\n",
       "      <td>605.0</td>\n",
       "    </tr>\n",
       "    <tr>\n",
       "      <th>1</th>\n",
       "      <td>H1</td>\n",
       "      <td>2</td>\n",
       "      <td>586.0</td>\n",
       "    </tr>\n",
       "    <tr>\n",
       "      <th>2</th>\n",
       "      <td>H1</td>\n",
       "      <td>3</td>\n",
       "      <td>586.0</td>\n",
       "    </tr>\n",
       "    <tr>\n",
       "      <th>3</th>\n",
       "      <td>H1</td>\n",
       "      <td>4</td>\n",
       "      <td>559.0</td>\n",
       "    </tr>\n",
       "    <tr>\n",
       "      <th>4</th>\n",
       "      <td>H1</td>\n",
       "      <td>5</td>\n",
       "      <td>511.0</td>\n",
       "    </tr>\n",
       "  </tbody>\n",
       "</table>\n",
       "</div>"
      ],
      "text/plain": [
       "  unique_id  ds      y\n",
       "0        H1   1  605.0\n",
       "1        H1   2  586.0\n",
       "2        H1   3  586.0\n",
       "3        H1   4  559.0\n",
       "4        H1   5  511.0"
      ]
     },
     "execution_count": null,
     "metadata": {},
     "output_type": "execute_result"
    }
   ],
   "source": [
    "df = pd.read_parquet('https://datasets-nixtla.s3.amazonaws.com/m4-hourly.parquet')\n",
    "uids = df['unique_id'].unique()[:10]\n",
    "df = df[df['unique_id'].isin(uids)]\n",
    "df.head()"
   ]
  },
  {
   "cell_type": "markdown",
   "id": "2f052435-5c93-4db1-980b-b63997a953d1",
   "metadata": {},
   "source": [
    "Suppose that you want to use an ARIMA model to forecast your series but you want to incorporate the trend and seasonal components from the MSTL model as external regressors. You can define the MSTL model to use and then provide it to the mstl_decomposition function."
   ]
  },
  {
   "cell_type": "code",
   "execution_count": null,
   "id": "7f8474d7-6160-4137-9d61-f04f7b2008a1",
   "metadata": {},
   "outputs": [],
   "source": [
    "freq = 1\n",
    "season_length = 24\n",
    "horizon = 2 * season_length\n",
    "valid = df.groupby('unique_id').tail(horizon)\n",
    "train = df.drop(valid.index)\n",
    "model = MSTL(season_length=24)\n",
    "transformed_df, X_df = mstl_decomposition(train, model=model, freq=freq, h=horizon)"
   ]
  },
  {
   "cell_type": "markdown",
   "id": "ea5a96ca-7b83-49b3-9491-cf32bd1a8120",
   "metadata": {},
   "source": [
    "This generates the dataframe that we should use for training (with the trend and seasonal columns added), as well as the dataframe we should use to forecast."
   ]
  },
  {
   "cell_type": "code",
   "execution_count": null,
   "id": "d5464742-1ecb-48ff-91ca-8d271eabca69",
   "metadata": {},
   "outputs": [
    {
     "data": {
      "text/html": [
       "<div>\n",
       "<style scoped>\n",
       "    .dataframe tbody tr th:only-of-type {\n",
       "        vertical-align: middle;\n",
       "    }\n",
       "\n",
       "    .dataframe tbody tr th {\n",
       "        vertical-align: top;\n",
       "    }\n",
       "\n",
       "    .dataframe thead th {\n",
       "        text-align: right;\n",
       "    }\n",
       "</style>\n",
       "<table border=\"1\" class=\"dataframe\">\n",
       "  <thead>\n",
       "    <tr style=\"text-align: right;\">\n",
       "      <th></th>\n",
       "      <th>unique_id</th>\n",
       "      <th>ds</th>\n",
       "      <th>y</th>\n",
       "      <th>trend</th>\n",
       "      <th>seasonal</th>\n",
       "    </tr>\n",
       "  </thead>\n",
       "  <tbody>\n",
       "    <tr>\n",
       "      <th>0</th>\n",
       "      <td>H1</td>\n",
       "      <td>1</td>\n",
       "      <td>605.0</td>\n",
       "      <td>502.872910</td>\n",
       "      <td>131.419934</td>\n",
       "    </tr>\n",
       "    <tr>\n",
       "      <th>1</th>\n",
       "      <td>H1</td>\n",
       "      <td>2</td>\n",
       "      <td>586.0</td>\n",
       "      <td>507.873456</td>\n",
       "      <td>93.100015</td>\n",
       "    </tr>\n",
       "    <tr>\n",
       "      <th>2</th>\n",
       "      <td>H1</td>\n",
       "      <td>3</td>\n",
       "      <td>586.0</td>\n",
       "      <td>512.822533</td>\n",
       "      <td>82.155386</td>\n",
       "    </tr>\n",
       "    <tr>\n",
       "      <th>3</th>\n",
       "      <td>H1</td>\n",
       "      <td>4</td>\n",
       "      <td>559.0</td>\n",
       "      <td>517.717481</td>\n",
       "      <td>42.412749</td>\n",
       "    </tr>\n",
       "    <tr>\n",
       "      <th>4</th>\n",
       "      <td>H1</td>\n",
       "      <td>5</td>\n",
       "      <td>511.0</td>\n",
       "      <td>522.555849</td>\n",
       "      <td>-11.401890</td>\n",
       "    </tr>\n",
       "  </tbody>\n",
       "</table>\n",
       "</div>"
      ],
      "text/plain": [
       "  unique_id  ds      y       trend    seasonal\n",
       "0        H1   1  605.0  502.872910  131.419934\n",
       "1        H1   2  586.0  507.873456   93.100015\n",
       "2        H1   3  586.0  512.822533   82.155386\n",
       "3        H1   4  559.0  517.717481   42.412749\n",
       "4        H1   5  511.0  522.555849  -11.401890"
      ]
     },
     "execution_count": null,
     "metadata": {},
     "output_type": "execute_result"
    }
   ],
   "source": [
    "transformed_df.head()"
   ]
  },
  {
   "cell_type": "code",
   "execution_count": null,
   "id": "5f061536-8806-405d-b7f6-e94df5e0fef6",
   "metadata": {},
   "outputs": [
    {
     "data": {
      "text/html": [
       "<div>\n",
       "<style scoped>\n",
       "    .dataframe tbody tr th:only-of-type {\n",
       "        vertical-align: middle;\n",
       "    }\n",
       "\n",
       "    .dataframe tbody tr th {\n",
       "        vertical-align: top;\n",
       "    }\n",
       "\n",
       "    .dataframe thead th {\n",
       "        text-align: right;\n",
       "    }\n",
       "</style>\n",
       "<table border=\"1\" class=\"dataframe\">\n",
       "  <thead>\n",
       "    <tr style=\"text-align: right;\">\n",
       "      <th></th>\n",
       "      <th>unique_id</th>\n",
       "      <th>ds</th>\n",
       "      <th>trend</th>\n",
       "      <th>seasonal</th>\n",
       "    </tr>\n",
       "  </thead>\n",
       "  <tbody>\n",
       "    <tr>\n",
       "      <th>0</th>\n",
       "      <td>H1</td>\n",
       "      <td>701</td>\n",
       "      <td>643.801348</td>\n",
       "      <td>-29.189627</td>\n",
       "    </tr>\n",
       "    <tr>\n",
       "      <th>1</th>\n",
       "      <td>H1</td>\n",
       "      <td>702</td>\n",
       "      <td>644.328207</td>\n",
       "      <td>-99.680432</td>\n",
       "    </tr>\n",
       "    <tr>\n",
       "      <th>2</th>\n",
       "      <td>H1</td>\n",
       "      <td>703</td>\n",
       "      <td>644.749693</td>\n",
       "      <td>-141.169014</td>\n",
       "    </tr>\n",
       "    <tr>\n",
       "      <th>3</th>\n",
       "      <td>H1</td>\n",
       "      <td>704</td>\n",
       "      <td>645.086883</td>\n",
       "      <td>-173.325625</td>\n",
       "    </tr>\n",
       "    <tr>\n",
       "      <th>4</th>\n",
       "      <td>H1</td>\n",
       "      <td>705</td>\n",
       "      <td>645.356634</td>\n",
       "      <td>-195.862530</td>\n",
       "    </tr>\n",
       "  </tbody>\n",
       "</table>\n",
       "</div>"
      ],
      "text/plain": [
       "  unique_id   ds       trend    seasonal\n",
       "0        H1  701  643.801348  -29.189627\n",
       "1        H1  702  644.328207  -99.680432\n",
       "2        H1  703  644.749693 -141.169014\n",
       "3        H1  704  645.086883 -173.325625\n",
       "4        H1  705  645.356634 -195.862530"
      ]
     },
     "execution_count": null,
     "metadata": {},
     "output_type": "execute_result"
    }
   ],
   "source": [
    "X_df.head()"
   ]
  },
  {
   "cell_type": "markdown",
   "id": "ae69a907-572f-4541-bd5d-18d40e1769a1",
   "metadata": {},
   "source": [
    "We can now train our ARIMA models and compute our forecasts."
   ]
  },
  {
   "cell_type": "code",
   "execution_count": null,
   "id": "ed2ab833-8827-49c4-b7ed-33b6c4714ab7",
   "metadata": {},
   "outputs": [
    {
     "data": {
      "text/html": [
       "<div>\n",
       "<style scoped>\n",
       "    .dataframe tbody tr th:only-of-type {\n",
       "        vertical-align: middle;\n",
       "    }\n",
       "\n",
       "    .dataframe tbody tr th {\n",
       "        vertical-align: top;\n",
       "    }\n",
       "\n",
       "    .dataframe thead th {\n",
       "        text-align: right;\n",
       "    }\n",
       "</style>\n",
       "<table border=\"1\" class=\"dataframe\">\n",
       "  <thead>\n",
       "    <tr style=\"text-align: right;\">\n",
       "      <th></th>\n",
       "      <th>unique_id</th>\n",
       "      <th>ds</th>\n",
       "      <th>ARIMA</th>\n",
       "    </tr>\n",
       "  </thead>\n",
       "  <tbody>\n",
       "    <tr>\n",
       "      <th>0</th>\n",
       "      <td>H1</td>\n",
       "      <td>701</td>\n",
       "      <td>612.737668</td>\n",
       "    </tr>\n",
       "    <tr>\n",
       "      <th>1</th>\n",
       "      <td>H1</td>\n",
       "      <td>702</td>\n",
       "      <td>542.851796</td>\n",
       "    </tr>\n",
       "    <tr>\n",
       "      <th>2</th>\n",
       "      <td>H1</td>\n",
       "      <td>703</td>\n",
       "      <td>501.931839</td>\n",
       "    </tr>\n",
       "    <tr>\n",
       "      <th>3</th>\n",
       "      <td>H1</td>\n",
       "      <td>704</td>\n",
       "      <td>470.248289</td>\n",
       "    </tr>\n",
       "    <tr>\n",
       "      <th>4</th>\n",
       "      <td>H1</td>\n",
       "      <td>705</td>\n",
       "      <td>448.115839</td>\n",
       "    </tr>\n",
       "  </tbody>\n",
       "</table>\n",
       "</div>"
      ],
      "text/plain": [
       "  unique_id   ds       ARIMA\n",
       "0        H1  701  612.737668\n",
       "1        H1  702  542.851796\n",
       "2        H1  703  501.931839\n",
       "3        H1  704  470.248289\n",
       "4        H1  705  448.115839"
      ]
     },
     "execution_count": null,
     "metadata": {},
     "output_type": "execute_result"
    }
   ],
   "source": [
    "sf = StatsForecast(\n",
    "    models=[ARIMA(order=(1, 0, 1), season_length=season_length)],\n",
    "    freq=freq\n",
    ")\n",
    "preds = sf.forecast(h=horizon, df=transformed_df, X_df=X_df)\n",
    "preds.head()"
   ]
  },
  {
   "cell_type": "markdown",
   "id": "1c86a3bb-e13f-44a8-8408-ed08789fd458",
   "metadata": {},
   "source": [
    "We can now evaluate the performance."
   ]
  },
  {
   "cell_type": "code",
   "execution_count": null,
   "id": "e084d8b4-9b3a-4efc-ad63-0976e1c3d2ca",
   "metadata": {},
   "outputs": [],
   "source": [
    "def compute_evaluation(preds):\n",
    "    full = preds.merge(valid, on=['unique_id', 'ds'])\n",
    "    mase24 = partial(mase, seasonality=24)\n",
    "    res = evaluate(full, metrics=[smape, mase24], train_df=train).groupby('metric')['ARIMA'].mean()\n",
    "    res_smape = '{:.1%}'.format(res['smape'])\n",
    "    res_mase = '{:.1f}'.format(res['mase'])\n",
    "    return pd.Series({'mase': res_mase, 'smape': res_smape})"
   ]
  },
  {
   "cell_type": "code",
   "execution_count": null,
   "id": "929c3282-87e2-4147-a6a0-18dc2b3a175a",
   "metadata": {},
   "outputs": [
    {
     "data": {
      "text/plain": [
       "mase      1.0\n",
       "smape    3.9%\n",
       "dtype: object"
      ]
     },
     "execution_count": null,
     "metadata": {},
     "output_type": "execute_result"
    }
   ],
   "source": [
    "compute_evaluation(preds)"
   ]
  },
  {
   "cell_type": "markdown",
   "id": "a92e3c37-5a36-47ba-9edd-6ae14c6ee0a7",
   "metadata": {},
   "source": [
    "And compare this with just using the series values."
   ]
  },
  {
   "cell_type": "code",
   "execution_count": null,
   "id": "b74a15ac-1945-460f-ba88-3bc7157c4a1f",
   "metadata": {},
   "outputs": [
    {
     "data": {
      "text/plain": [
       "mase      2.3\n",
       "smape    7.7%\n",
       "dtype: object"
      ]
     },
     "execution_count": null,
     "metadata": {},
     "output_type": "execute_result"
    }
   ],
   "source": [
    "preds_noexog = sf.forecast(h=horizon, df=train)\n",
    "compute_evaluation(preds_noexog)"
   ]
  }
 ],
 "metadata": {
  "kernelspec": {
   "display_name": "python3",
   "language": "python",
   "name": "python3"
  }
 },
 "nbformat": 4,
 "nbformat_minor": 5
}
