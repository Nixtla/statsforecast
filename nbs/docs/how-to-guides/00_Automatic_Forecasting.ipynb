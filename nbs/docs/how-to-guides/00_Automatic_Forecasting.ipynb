{
 "cells": [
  {
   "attachments": {},
   "cell_type": "markdown",
   "metadata": {},
   "source": [
    "# Automatic Time Series Forecasting\n",
    "\n",
    "> How to do automatic forecasting using `AutoARIMA`, `AutoETS`, `AutoCES` and `AutoTheta`."
   ]
  },
  {
   "attachments": {},
   "cell_type": "markdown",
   "metadata": {},
   "source": [
    ":::{.callout-tip}\n",
    "Automatic forecasts of large numbers of univariate time series are often needed. It is common to have multiple product lines or skus that need forecasting. In these circumstances, an automatic forecasting algorithm is an essential tool. Automatic forecasting algorithms must determine an appropriate time series model, estimate the parameters and compute the forecasts. They must be robust to unusual time series patterns, and applicable to large numbers of series without user intervention. \n",
    ":::\n",
    "\n",
    "\n",
    "\n",
    "\n"
   ]
  },
  {
   "attachments": {},
   "cell_type": "markdown",
   "metadata": {},
   "source": [
    "## 1. Install statsforecast and load data\n",
    "Use pip to install statsforecast and load Air Passangers dataset as an example"
   ]
  },
  {
   "cell_type": "code",
   "execution_count": null,
   "metadata": {},
   "outputs": [],
   "source": [
    "# uncomment the following line to install the library\n",
    "# %pip install statsforecast"
   ]
  },
  {
   "cell_type": "code",
   "execution_count": null,
   "metadata": {},
   "outputs": [],
   "source": [
    "from statsforecast.utils import AirPassengersDF"
   ]
  },
  {
   "cell_type": "code",
   "execution_count": null,
   "metadata": {},
   "outputs": [],
   "source": [
    "Y_df = AirPassengersDF"
   ]
  },
  {
   "attachments": {},
   "cell_type": "markdown",
   "metadata": {},
   "source": [
    "## 2. Import StatsForecast and models\n",
    "Import the core StatsForecast class and the models you want to use"
   ]
  },
  {
   "cell_type": "code",
   "execution_count": null,
   "metadata": {},
   "outputs": [],
   "source": [
    "import pandas as pd\n",
    "\n",
    "from statsforecast import StatsForecast\n",
    "from statsforecast.models import AutoARIMA, AutoETS, AutoTheta, AutoCES"
   ]
  },
  {
   "attachments": {},
   "cell_type": "markdown",
   "metadata": {},
   "source": [
    "## 3. Instatiate the class\n",
    "Instantiate the StatsForecast class with the appropriate parameters"
   ]
  },
  {
   "cell_type": "code",
   "execution_count": null,
   "metadata": {},
   "outputs": [],
   "source": [
    "season_length = 12 # Define season length as 12 months for monthly data\n",
    "horizon = 1 # Forecast horizon is set to 1 month\n",
    "\n",
    "# Define a list of models for forecasting\n",
    "models = [\n",
    "    AutoARIMA(season_length=season_length), # ARIMA model with automatic order selection and seasonal component\n",
    "    AutoETS(season_length=season_length), # ETS model with automatic error, trend, and seasonal component\n",
    "    AutoTheta(season_length=season_length), # Theta model with automatic seasonality detection\n",
    "    AutoCES(season_length=season_length), # CES model with automatic seasonality detection\n",
    "]\n",
    "\n",
    "# Instantiate StatsForecast class with models, data frequency ('M' for monthly),\n",
    "# and parallel computation on all CPU cores (n_jobs=-1)\n",
    "sf = StatsForecast(\n",
    "    models=models, # models for forecasting\n",
    "    freq=pd.offsets.MonthEnd(),  # frequency of the timestamps\n",
    "    n_jobs=1  # number of jobs to run in parallel, -1 means using all processors\n",
    ")"
   ]
  },
  {
   "attachments": {},
   "cell_type": "markdown",
   "metadata": {},
   "source": [
    "## 4. a) Forecast with forecast method\n",
    "The `.forecast` method is faster for distributed computing and does not save the fittted models"
   ]
  },
  {
   "cell_type": "code",
   "execution_count": null,
   "metadata": {},
   "outputs": [
    {
     "data": {
      "text/html": [
       "<div>\n",
       "<style scoped>\n",
       "    .dataframe tbody tr th:only-of-type {\n",
       "        vertical-align: middle;\n",
       "    }\n",
       "\n",
       "    .dataframe tbody tr th {\n",
       "        vertical-align: top;\n",
       "    }\n",
       "\n",
       "    .dataframe thead th {\n",
       "        text-align: right;\n",
       "    }\n",
       "</style>\n",
       "<table border=\"1\" class=\"dataframe\">\n",
       "  <thead>\n",
       "    <tr style=\"text-align: right;\">\n",
       "      <th></th>\n",
       "      <th>unique_id</th>\n",
       "      <th>ds</th>\n",
       "      <th>AutoARIMA</th>\n",
       "      <th>AutoETS</th>\n",
       "      <th>AutoTheta</th>\n",
       "      <th>CES</th>\n",
       "    </tr>\n",
       "  </thead>\n",
       "  <tbody>\n",
       "    <tr>\n",
       "      <th>0</th>\n",
       "      <td>1.0</td>\n",
       "      <td>1961-01-31</td>\n",
       "      <td>444.309575</td>\n",
       "      <td>442.357169</td>\n",
       "      <td>442.940797</td>\n",
       "      <td>453.03418</td>\n",
       "    </tr>\n",
       "  </tbody>\n",
       "</table>\n",
       "</div>"
      ],
      "text/plain": [
       "   unique_id         ds   AutoARIMA     AutoETS   AutoTheta        CES\n",
       "0        1.0 1961-01-31  444.309575  442.357169  442.940797  453.03418"
      ]
     },
     "execution_count": null,
     "metadata": {},
     "output_type": "execute_result"
    }
   ],
   "source": [
    "# Generate forecasts for the specified horizon using the sf object\n",
    "Y_hat_df = sf.forecast(df=Y_df, h=horizon) # forecast data\n",
    "# Display the first few rows of the forecast DataFrame\n",
    "Y_hat_df.head() # preview of forecasted data"
   ]
  },
  {
   "attachments": {},
   "cell_type": "markdown",
   "metadata": {},
   "source": [
    "## 4. b) Forecast with fit and predict\n",
    "The `.fit` method saves the fitted models"
   ]
  },
  {
   "cell_type": "code",
   "execution_count": null,
   "metadata": {},
   "outputs": [
    {
     "data": {
      "text/html": [
       "<div>\n",
       "<style scoped>\n",
       "    .dataframe tbody tr th:only-of-type {\n",
       "        vertical-align: middle;\n",
       "    }\n",
       "\n",
       "    .dataframe tbody tr th {\n",
       "        vertical-align: top;\n",
       "    }\n",
       "\n",
       "    .dataframe thead th {\n",
       "        text-align: right;\n",
       "    }\n",
       "</style>\n",
       "<table border=\"1\" class=\"dataframe\">\n",
       "  <thead>\n",
       "    <tr style=\"text-align: right;\">\n",
       "      <th></th>\n",
       "      <th>unique_id</th>\n",
       "      <th>ds</th>\n",
       "      <th>AutoARIMA</th>\n",
       "      <th>AutoETS</th>\n",
       "      <th>AutoTheta</th>\n",
       "      <th>CES</th>\n",
       "    </tr>\n",
       "  </thead>\n",
       "  <tbody>\n",
       "    <tr>\n",
       "      <th>0</th>\n",
       "      <td>1.0</td>\n",
       "      <td>1961-01-31</td>\n",
       "      <td>444.309575</td>\n",
       "      <td>442.357169</td>\n",
       "      <td>442.940797</td>\n",
       "      <td>453.03418</td>\n",
       "    </tr>\n",
       "  </tbody>\n",
       "</table>\n",
       "</div>"
      ],
      "text/plain": [
       "   unique_id         ds   AutoARIMA     AutoETS   AutoTheta        CES\n",
       "0        1.0 1961-01-31  444.309575  442.357169  442.940797  453.03418"
      ]
     },
     "execution_count": null,
     "metadata": {},
     "output_type": "execute_result"
    }
   ],
   "source": [
    "sf.fit(df=Y_df) # Fit the models to the data using the fit method of the StatsForecast object\n",
    "\n",
    "sf.fitted_ # Access fitted models from the StatsForecast object\n",
    "\n",
    "Y_hat_df = sf.predict(h=horizon) # Predict or forecast 'horizon' steps ahead using the predict method\n",
    "\n",
    "Y_hat_df.head() # Preview the first few rows of the forecasted data"
   ]
  },
  {
   "attachments": {},
   "cell_type": "markdown",
   "metadata": {},
   "source": [
    "## References\n",
    "\n",
    "[Hyndman, RJ and Khandakar, Y (2008) \"Automatic time series forecasting: The forecast package for R\", Journal of Statistical Software, 26(3).](https://www.jstatsoft.org/article/view/v027i03)"
   ]
  }
 ],
 "metadata": {
  "kernelspec": {
   "display_name": "python3",
   "language": "python",
   "name": "python3"
  }
 },
 "nbformat": 4,
 "nbformat_minor": 4
}
