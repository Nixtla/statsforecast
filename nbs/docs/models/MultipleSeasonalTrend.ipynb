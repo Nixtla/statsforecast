{
 "cells": [
  {
   "cell_type": "code",
   "execution_count": null,
   "metadata": {},
   "outputs": [],
   "source": [
    "#| hide\n",
    "\n",
    "# This cell will not be rendered but is to hide warnings and limit the rows shown\n",
    "\n",
    "import warnings\n",
    "warnings.filterwarnings(\"ignore\")\n",
    "\n",
    "import logging\n",
    "logging.getLogger('statsforecast').setLevel(logging.ERROR)\n",
    "\n",
    "import pandas as pd\n",
    "pd.set_option('display.max_rows', 6)"
   ]
  },
  {
   "cell_type": "markdown",
   "metadata": {},
   "source": [
    "# Multiple Seasonal Trend (MSTL)\n",
    "\n",
    "> Step-by-step guide on using the `MSTL Model` with `Statsforecast`.\n",
    "\n",
    "During this walkthrough, we will become familiar with the main `StatsForecast` class and some relevant methods such as `StatsForecast.plot`, `StatsForecast.forecast` and `StatsForecast.cross_validation` in other."
   ]
  },
  {
   "cell_type": "markdown",
   "metadata": {},
   "source": [
    "## Table of Contents\n",
    "\n",
    "* [Introduction](#introduction)\n",
    "* [IMAPA Model](#model)\n",
    "* [Loading libraries and data](#loading)\n",
    "* [Explore data with the plot method](#plotting)\n",
    "* [Split the data into training and testing](#splitting)\n",
    "* [Implementation of IMAPA with StatsForecast](#implementation)\n",
    "* [Cross-validation](#cross_validate)\n",
    "* [Model evaluation](#evaluate)\n",
    "* [References](#references)"
   ]
  },
  {
   "cell_type": "markdown",
   "metadata": {},
   "source": [
    "## Introduction <a class=\"anchor\" id=\"introduction\"></a>\n",
    "\n",
    "\n",
    "The MSTL model (Multiple Seasonal-Trend decomposition using LOESS) is a method used to decompose a time series into its seasonal, trend and residual components. This approach is based on the use of LOESS (Local Regression Smoothing) to estimate the components of the time series.\n",
    "\n",
    "The MSTL decomposition is an extension of the classic seasonal-trend decomposition method (also known as Holt-Winters decomposition), which is designed to handle situations where multiple seasonal patterns exist in the data. This can occur, for example, when a time series exhibits daily, weekly, and yearly patterns simultaneously.\n",
    "\n",
    "The MSTL decomposition process is performed in several stages:\n",
    "\n",
    "1. Trend estimation: LOESS is used to estimate the trend component of the time series. LOESS is a non-parametric smoothing method that locally fits data and allows complex trend patterns to be captured.\n",
    "\n",
    "2. Estimation of seasonal components: Seasonal decomposition techniques are applied to identify and model the different seasonal patterns present in the data. This involves extracting and modeling seasonal components, such as daily, weekly, or yearly patterns.\n",
    "\n",
    "3. Estimation of the residuals: The residuals are calculated as the difference between the original time series and the sum of the estimates of trend and seasonal components. Residuals represent variation not explained by trend and seasonal patterns and may contain additional information or noise.\n",
    "\n",
    "MSTL decomposition allows you to analyze and understand the different components of a time series in more detail, which can make it easier to forecast and detect patterns or anomalies. Furthermore, the use of LOESS provides flexibility to adapt to different trend and seasonal patterns present in the data.\n",
    "\n",
    "It is important to note that the MSTL model is only one of the available approaches for time series decomposition and that its choice will depend on the specific characteristics of the data and the application context."
   ]
  },
  {
   "cell_type": "markdown",
   "metadata": {},
   "source": [
    "## MSTL <a class=\"anchor\" id=\"model\"></a>\n",
    "\n",
    "An important objective in time series analysis is the decomposition of a series into a set of non-observable (latent) components that can be associated with different types of temporal variations. The idea of time series decomposition is very old and was used for the calculation of planetary orbits by seventeenth century astronomers. Persons was the first to state explicitly the assumptions of unobserved components. As Persons saw it, time series was composed of four types of fluctuations:\n",
    "\n",
    "1. a long-term tendency or secular trend;\n",
    "2. cyclical movements superimposed upon the long-term trend. These cycles appear to reach their peaks during periods of industrial prosperity and their troughs during periods of depressions, their rise and fall constituting the business cycle;\n",
    "3. a seasonal movement within each year, the shape of which depends on the nature of the series;\n",
    "4. residual variations due to changes impacting individual variables or other major events, such as wars and national catastrophes affecting a number of variables.\n",
    "\n",
    "Traditionally, the four variations have been assumed to be mutually independent from one another and specified by means of an additive decomposition model:\n",
    "\n",
    "\n",
    "\n",
    "$$\n",
    "\\begin{equation}\n",
    "y_t= T_t +C_t +S_t +I_t, t=1,\\ \\cdots, n  \\tag 1\n",
    "\\end{equation}\n",
    "$$\n",
    "\n",
    "\n",
    "where $y_t$ denotes the observed series at time $t$, $T_t$ the long-term trend, $C_t$ the business cycle, $S_t$ seasonality, and $I_t$ the irregulars.\n",
    "\n",
    "If there is dependence among the latent components, this relationship is specified through a multiplicative model\n",
    "\n",
    "\n",
    "$$\n",
    "\\begin{equation}\n",
    "y_t= T_t \\times C_t \\times S_t \\times I_t, t=1,\\ \\cdots, n  \\tag 2\n",
    "\\end{equation}\n",
    "$$\n",
    "\n",
    "\n",
    "where now $S_t$ and $I_t$ are expressed in proportion to the trend-cycle $T_t \\times C_t$ . In some cases, mixed additive-multiplicative models are used.\n",
    "\n",
    "### LOESS (Local Regression Smoothing)\n",
    "\n",
    "LOESS is a nonparametric smoothing method used to estimate a smooth function that locally fits the data. For each point in the time series, LOESS performs a weighted regression using nearest neighbors.\n",
    "\n",
    "The LOESS calculation involves the following steps:\n",
    "\n",
    "- For each point t in the time series, a nearest neighbor window is selected.\n",
    "- Weights are assigned to neighbors based on their proximity to t, using a weighting function, such as the Gaussian kernel.\n",
    "- A weighted regression is performed using the neighbors and their assigned weights.\n",
    "- The fitted value for point t is obtained based on local regression.\n",
    "- The process is repeated for all points in the time series, thus obtaining a smoothed estimate of the trend.\n"
   ]
  },
  {
   "cell_type": "markdown",
   "metadata": {},
   "source": [
    "### MSTL General Properties\n",
    "\n",
    "The MSTL model (Multiple Seasonal-Trend decomposition using LOESS) has several properties that make it useful in time series analysis. Here is a list of some of its properties:\n",
    "\n",
    "1. Decomposition of multiple seasonal components: The MSTL model is capable of handling time series that exhibit multiple seasonal patterns simultaneously. You can effectively identify and model different seasonal components present in the data.\n",
    "\n",
    "2. Flexibility in detecting complex trends: Thanks to the use of LOESS, the MSTL model can capture complex trend patterns in the data. This includes non-linear trends and abrupt changes in the time series.\n",
    "\n",
    "3. Adaptability to different seasonal frequencies: The MSTL model is capable of handling data with different seasonal frequencies, such as daily, weekly, monthly, or even yearly patterns. You can identify and model seasonal patterns of different cycle lengths. (see) [Seasonal periods](https://robjhyndman.com/hyndsight/seasonal-periods/)\n",
    "\n",
    "|Frecuencia|\n",
    "|----------|\n",
    "\n",
    "|Data|Minute|Hour|Day|Week|Year|\n",
    "|----|------|----|---|----|----|\n",
    "|Daily|     |    |   | 7  |365.25|\n",
    "|Hourly|    |    |24 |168 |8766|\n",
    "|Half-hourly|\t |   |48 |336 |17532|\n",
    "|Minutes\t\t|   | 60\t|1440\t|10080|\t525960|\n",
    "|Seconds\t|60\t|3600\t|86400\t|604800\t|31557600|\n",
    "\n",
    "\n",
    "\n",
    "\n",
    "4. Ability to smooth noise and outliers: The smoothing process used in LOESS allows to reduce the impact of noise and outliers in the time series. This can improve detection of underlying patterns and make it easier to analyze trend and seasonality.\n",
    "\n",
    "5. Improved forecasting: By decomposing the time series into seasonal, trend, and residual components, the MSTL model can provide more accurate forecasts. Forecasts can be generated by extrapolating trend and seasonal patterns into the future, and adding the stochastic residuals.\n",
    "\n",
    "6. More detailed interpretation and analysis: The MSTL decomposition allows you to analyze and understand the different components of the time series in a more detailed way. This facilitates the identification of seasonal patterns, changes in trend, and the evaluation of residual variability.\n",
    "\n",
    "7. Efficient Implementation: Although the specific implementation may vary, the MSTL model can be calculated efficiently, especially when LOESS is used in combination with optimized calculation algorithms.\n",
    "\n",
    "These properties make the MSTL model a useful tool for exploratory time series analysis, data forecasting, and pattern detection in the presence of multiple seasonal components and complex trends."
   ]
  },
  {
   "cell_type": "markdown",
   "metadata": {},
   "source": [
    "## Loading libraries and data <a class=\"anchor\" id=\"loading\"></a>\n",
    "\n",
    ":::{.callout-tip} \n",
    "Statsforecast will be needed. To install, see [instructions](../getting-started/0_Installation.ipynb). \n",
    ":::\n",
    "\n",
    "Next, we import plotting libraries and configure the plotting style."
   ]
  },
  {
   "cell_type": "code",
   "execution_count": null,
   "metadata": {},
   "outputs": [],
   "source": [
    "import matplotlib.pyplot as plt\n",
    "import seaborn as sns\n",
    "from statsmodels.graphics.tsaplots import plot_acf, plot_pacf\n",
    "plt.style.use('grayscale') # fivethirtyeight  grayscale  classic\n",
    "plt.rcParams['lines.linewidth'] = 1.5\n",
    "dark_style = {\n",
    "    'figure.facecolor': '#008080',  # #212946\n",
    "    'axes.facecolor': '#008080',\n",
    "    'savefig.facecolor': '#008080',\n",
    "    'axes.grid': True,\n",
    "    'axes.grid.which': 'both',\n",
    "    'axes.spines.left': False,\n",
    "    'axes.spines.right': False,\n",
    "    'axes.spines.top': False,\n",
    "    'axes.spines.bottom': False,\n",
    "    'grid.color': '#000000',  #2A3459\n",
    "    'grid.linewidth': '1',\n",
    "    'text.color': '0.9',\n",
    "    'axes.labelcolor': '0.9',\n",
    "    'xtick.color': '0.9',\n",
    "    'ytick.color': '0.9',\n",
    "    'font.size': 12 }\n",
    "plt.rcParams.update(dark_style)\n",
    "\n",
    "\n",
    "from pylab import rcParams\n",
    "rcParams['figure.figsize'] = (18,7)"
   ]
  },
  {
   "cell_type": "code",
   "execution_count": null,
   "metadata": {},
   "outputs": [
    {
     "data": {
      "text/html": [
       "<div>\n",
       "<style scoped>\n",
       "    .dataframe tbody tr th:only-of-type {\n",
       "        vertical-align: middle;\n",
       "    }\n",
       "\n",
       "    .dataframe tbody tr th {\n",
       "        vertical-align: top;\n",
       "    }\n",
       "\n",
       "    .dataframe thead th {\n",
       "        text-align: right;\n",
       "    }\n",
       "</style>\n",
       "<table border=\"1\" class=\"dataframe\">\n",
       "  <thead>\n",
       "    <tr style=\"text-align: right;\">\n",
       "      <th></th>\n",
       "      <th>Time</th>\n",
       "      <th>Ads</th>\n",
       "    </tr>\n",
       "  </thead>\n",
       "  <tbody>\n",
       "    <tr>\n",
       "      <th>0</th>\n",
       "      <td>2017-09-13T00:00:00</td>\n",
       "      <td>80115</td>\n",
       "    </tr>\n",
       "    <tr>\n",
       "      <th>1</th>\n",
       "      <td>2017-09-13T01:00:00</td>\n",
       "      <td>79885</td>\n",
       "    </tr>\n",
       "    <tr>\n",
       "      <th>2</th>\n",
       "      <td>2017-09-13T02:00:00</td>\n",
       "      <td>89325</td>\n",
       "    </tr>\n",
       "    <tr>\n",
       "      <th>3</th>\n",
       "      <td>2017-09-13T03:00:00</td>\n",
       "      <td>101930</td>\n",
       "    </tr>\n",
       "    <tr>\n",
       "      <th>4</th>\n",
       "      <td>2017-09-13T04:00:00</td>\n",
       "      <td>121630</td>\n",
       "    </tr>\n",
       "  </tbody>\n",
       "</table>\n",
       "</div>"
      ],
      "text/plain": [
       "                  Time     Ads\n",
       "0  2017-09-13T00:00:00   80115\n",
       "1  2017-09-13T01:00:00   79885\n",
       "2  2017-09-13T02:00:00   89325\n",
       "3  2017-09-13T03:00:00  101930\n",
       "4  2017-09-13T04:00:00  121630"
      ]
     },
     "execution_count": null,
     "metadata": {},
     "output_type": "execute_result"
    }
   ],
   "source": [
    "import pandas as pd\n",
    "df=pd.read_csv(\"https://raw.githubusercontent.com/Naren8520/Serie-de-tiempo-con-Machine-Learning/main/Data/ads.csv\")\n",
    "\n",
    "df.head()"
   ]
  },
  {
   "cell_type": "markdown",
   "metadata": {},
   "source": [
    "The input to StatsForecast is always a data frame in long format with three columns: unique_id, ds and y:\n",
    "\n",
    "* The `unique_id` (string, int or category) represents an identifier for the series.\n",
    "\n",
    "* The `ds` (datestamp) column should be of a format expected by Pandas, ideally YYYY-MM-DD for a date or YYYY-MM-DD HH:MM:SS for a timestamp.\n",
    "\n",
    "* The `y` (numeric) represents the measurement we wish to forecast."
   ]
  },
  {
   "cell_type": "code",
   "execution_count": null,
   "metadata": {},
   "outputs": [
    {
     "data": {
      "text/html": [
       "<div>\n",
       "<style scoped>\n",
       "    .dataframe tbody tr th:only-of-type {\n",
       "        vertical-align: middle;\n",
       "    }\n",
       "\n",
       "    .dataframe tbody tr th {\n",
       "        vertical-align: top;\n",
       "    }\n",
       "\n",
       "    .dataframe thead th {\n",
       "        text-align: right;\n",
       "    }\n",
       "</style>\n",
       "<table border=\"1\" class=\"dataframe\">\n",
       "  <thead>\n",
       "    <tr style=\"text-align: right;\">\n",
       "      <th></th>\n",
       "      <th>ds</th>\n",
       "      <th>y</th>\n",
       "      <th>unique_id</th>\n",
       "    </tr>\n",
       "  </thead>\n",
       "  <tbody>\n",
       "    <tr>\n",
       "      <th>0</th>\n",
       "      <td>2017-09-13T00:00:00</td>\n",
       "      <td>80115</td>\n",
       "      <td>1</td>\n",
       "    </tr>\n",
       "    <tr>\n",
       "      <th>1</th>\n",
       "      <td>2017-09-13T01:00:00</td>\n",
       "      <td>79885</td>\n",
       "      <td>1</td>\n",
       "    </tr>\n",
       "    <tr>\n",
       "      <th>2</th>\n",
       "      <td>2017-09-13T02:00:00</td>\n",
       "      <td>89325</td>\n",
       "      <td>1</td>\n",
       "    </tr>\n",
       "    <tr>\n",
       "      <th>3</th>\n",
       "      <td>2017-09-13T03:00:00</td>\n",
       "      <td>101930</td>\n",
       "      <td>1</td>\n",
       "    </tr>\n",
       "    <tr>\n",
       "      <th>4</th>\n",
       "      <td>2017-09-13T04:00:00</td>\n",
       "      <td>121630</td>\n",
       "      <td>1</td>\n",
       "    </tr>\n",
       "  </tbody>\n",
       "</table>\n",
       "</div>"
      ],
      "text/plain": [
       "                    ds       y unique_id\n",
       "0  2017-09-13T00:00:00   80115         1\n",
       "1  2017-09-13T01:00:00   79885         1\n",
       "2  2017-09-13T02:00:00   89325         1\n",
       "3  2017-09-13T03:00:00  101930         1\n",
       "4  2017-09-13T04:00:00  121630         1"
      ]
     },
     "execution_count": null,
     "metadata": {},
     "output_type": "execute_result"
    }
   ],
   "source": [
    "df[\"unique_id\"]=\"1\"\n",
    "df.columns=[\"ds\", \"y\", \"unique_id\"]\n",
    "df.head()"
   ]
  },
  {
   "cell_type": "code",
   "execution_count": null,
   "metadata": {},
   "outputs": [
    {
     "name": "stdout",
     "output_type": "stream",
     "text": [
      "ds           object\n",
      "y             int64\n",
      "unique_id    object\n",
      "dtype: object\n"
     ]
    }
   ],
   "source": [
    "print(df.dtypes)"
   ]
  },
  {
   "cell_type": "markdown",
   "metadata": {},
   "source": [
    "We can see that our time variable `(ds)` is in an object format, we need to convert to a date format"
   ]
  },
  {
   "cell_type": "code",
   "execution_count": null,
   "metadata": {},
   "outputs": [],
   "source": [
    "df[\"ds\"] = pd.to_datetime(df[\"ds\"])"
   ]
  },
  {
   "cell_type": "markdown",
   "metadata": {},
   "source": [
    "## Explore Data with the plot method <a class=\"anchor\" id=\"plotting\"></a>\n",
    "\n",
    "Plot some series using the plot method from the StatsForecast class. This method prints a random series from the dataset and is useful for basic EDA."
   ]
  },
  {
   "cell_type": "code",
   "execution_count": null,
   "metadata": {},
   "outputs": [
    {
     "data": {
      "image/png": "[encoded data removed]",
      "text/plain": [
       "<Figure size 1600x350 with 1 Axes>"
      ]
     },
     "execution_count": null,
     "metadata": {},
     "output_type": "execute_result"
    }
   ],
   "source": [
    "from statsforecast import StatsForecast\n",
    "\n",
    "StatsForecast.plot(df)"
   ]
  },
  {
   "cell_type": "markdown",
   "metadata": {},
   "source": [
    "### Autocorrelation plots\n",
    "\n",
    "Autocorrelation (ACF) and partial autocorrelation (PACF) plots are statistical tools used to analyze time series. ACF charts show the correlation between the values of a time series and their lagged values, while PACF charts show the correlation between the values of a time series and their lagged values, after the effect of previous lagged values has been removed.\n",
    "\n",
    "ACF and PACF charts can be used to identify the structure of a time series, which can be helpful in choosing a suitable model for the time series. For example, if the ACF chart shows a repeating peak and valley pattern, this indicates that the time series is stationary, meaning that it has the same statistical properties over time. If the PACF chart shows a pattern of rapidly decreasing spikes, this indicates that the time series is invertible, meaning it can be reversed to get a stationary time series.\n",
    "\n",
    "The importance of the ACF and PACF charts is that they can help analysts better understand the structure of a time series. This understanding can be helpful in choosing a suitable model for the time series, which can improve the ability to predict future values of the time series.\n",
    "\n",
    "To analyze ACF and PACF charts:\n",
    "\n",
    "* Look for patterns in charts. Common patterns include repeating peaks and valleys, sawtooth patterns, and plateau patterns.\n",
    "* Compare ACF and PACF charts. The PACF chart generally has fewer spikes than the ACF chart.\n",
    "* Consider the length of the time series. ACF and PACF charts for longer time series will have more spikes.\n",
    "* Use a confidence interval. The ACF and PACF plots also show confidence intervals for the autocorrelation values. If an autocorrelation value is outside the confidence interval, it is likely to be significant."
   ]
  },
  {
   "cell_type": "code",
   "execution_count": null,
   "metadata": {},
   "outputs": [
    {
     "data": {
      "image/png": "[encoded data removed]",
      "text/plain": [
       "<Figure size 1800x700 with 2 Axes>"
      ]
     },
     "metadata": {},
     "output_type": "display_data"
    }
   ],
   "source": [
    "fig, axs = plt.subplots(nrows=1, ncols=2)\n",
    "\n",
    "plot_acf(df[\"y\"],  lags=30, ax=axs[0],color=\"fuchsia\")\n",
    "axs[0].set_title(\"Autocorrelation\");\n",
    "\n",
    "# Grafico\n",
    "plot_pacf(df[\"y\"],  lags=30, ax=axs[1],color=\"lime\")\n",
    "axs[1].set_title('Partial Autocorrelation')\n",
    "\n",
    "plt.show();"
   ]
  },
  {
   "cell_type": "markdown",
   "metadata": {},
   "source": [
    "### Decomposition of the time series\n",
    "\n",
    "How to decompose a time series and why?\n",
    "\n",
    "In time series analysis to forecast new values, it is very important to know past data. More formally, we can say that it is very important to know the patterns that values follow over time. There can be many reasons that cause our forecast values to fall in the wrong direction. Basically, a time series consists of four components. The variation of those components causes the change in the pattern of the time series. These components are:\n",
    "\n",
    "* **Level:** This is the primary value that averages over time.\n",
    "* **Trend:** The trend is the value that causes increasing or decreasing patterns in a time series.\n",
    "* **Seasonality:** This is a cyclical event that occurs in a time series for a short time and causes short-term increasing or decreasing patterns in a time series.\n",
    "* **Residual/Noise:** These are the random variations in the time series.\n",
    "\n",
    "Combining these components over time leads to the formation of a time series. Most time series consist of level and noise/residual and trend or seasonality are optional values.\n",
    "\n",
    "If seasonality and trend are part of the time series, then there will be effects on the forecast value. As the pattern of the forecasted time series may be different from the previous time series.\n",
    "\n",
    "The combination of the components in time series can be of two types:\n",
    "* Additive\n",
    "* Multiplicative\n",
    "\n",
    "### Additive time series\n",
    "\n",
    "If the components of the time series are added to make the time series. Then the time series is called the additive time series. By visualization, we can say that the time series is additive if the increasing or decreasing pattern of the time series is similar throughout the series. The mathematical function of any additive time series can be represented by:\n",
    "$$y(t) = level + Trend + seasonality + noise$$\n",
    "\n",
    "### Multiplicative time series\n",
    "\n",
    "If the components of the time series are multiplicative together, then the time series is called a multiplicative time series. For visualization, if the time series is having exponential growth or decline with time, then the time series can be considered as the multiplicative time series. The mathematical function of the multiplicative time series can be represented as.\n",
    "\n",
    "$$y(t) = Level * Trend * seasonality * Noise$$"
   ]
  },
  {
   "cell_type": "code",
   "execution_count": null,
   "metadata": {},
   "outputs": [],
   "source": [
    "from statsmodels.tsa.seasonal import seasonal_decompose\n",
    "from plotly.subplots import make_subplots\n",
    "import plotly.graph_objects as go\n",
    "\n",
    "def plotSeasonalDecompose(\n",
    "    x,\n",
    "    model='additive',\n",
    "    filt=None,\n",
    "    period=None,\n",
    "    two_sided=True,\n",
    "    extrapolate_trend=0,\n",
    "    title=\"Seasonal Decomposition\"):\n",
    "\n",
    "    result = seasonal_decompose(\n",
    "            x, model=model, filt=filt, period=period,\n",
    "            two_sided=two_sided, extrapolate_trend=extrapolate_trend)\n",
    "    fig = make_subplots(\n",
    "            rows=4, cols=1,\n",
    "            subplot_titles=[\"Observed\", \"Trend\", \"Seasonal\", \"Residuals\"])\n",
    "    for idx, col in enumerate(['observed', 'trend', 'seasonal', 'resid']):\n",
    "        fig.add_trace(\n",
    "            go.Scatter(x=result.observed.index, y=getattr(result, col), mode='lines'),\n",
    "                row=idx+1, col=1,\n",
    "            )\n",
    "    return fig"
   ]
  },
  {
   "cell_type": "code",
   "execution_count": null,
   "metadata": {},
   "outputs": [
    {
     "data": {
      "application/vnd.plotly.v1+json": {
       "config": {
        "plotlyServerURL": "https://plot.ly"
       },
       "data": [
        {
         "mode": "lines",
         "type": "scatter",
         "x": [
          0,
          1,
          2,
          3,
          4,
          5,
          6,
          7,
          8,
          9,
          10,
          11,
          12,
          13,
          14,
          15,
          16,
          17,
          18,
          19,
          20,
          21,
          22,
          23,
          24,
          25,
          26,
          27,
          28,
          29,
          30,
          31,
          32,
          33,
          34,
          35,
          36,
          37,
          38,
          39,
          40,
          41,
          42,
          43,
          44,
          45,
          46,
          47,
          48,
          49,
          50,
          51,
          52,
          53,
          54,
          55,
          56,
          57,
          58,
          59,
          60,
          61,
          62,
          63,
          64,
          65,
          66,
          67,
          68,
          69,
          70,
          71,
          72,
          73,
          74,
          75,
          76,
          77,
          78,
          79,
          80,
          81,
          82,
          83,
          84,
          85,
          86,
          87,
          88,
          89,
          90,
          91,
          92,
          93,
          94,
          95,
          96,
          97,
          98,
          99,
          100,
          101,
          102,
          103,
          104,
          105,
          106,
          107,
          108,
          109,
          110,
          111,
          112,
          113,
          114,
          115,
          116,
          117,
          118,
          119,
          120,
          121,
          122,
          123,
          124,
          125,
          126,
          127,
          128,
          129,
          130,
          131,
          132,
          133,
          134,
          135,
          136,
          137,
          138,
          139,
          140,
          141,
          142,
          143,
          144,
          145,
          146,
          147,
          148,
          149,
          150,
          151,
          152,
          153,
          154,
          155,
          156,
          157,
          158,
          159,
          160,
          161,
          162,
          163,
          164,
          165,
          166,
          167,
          168,
          169,
          170,
          171,
          172,
          173,
          174,
          175,
          176,
          177,
          178,
          179,
          180,
          181,
          182,
          183,
          184,
          185,
          186,
          187,
          188,
          189,
          190,
          191,
          192,
          193,
          194,
          195,
          196,
          197,
          198,
          199,
          200,
          201,
          202,
          203,
          204,
          205,
          206,
          207,
          208,
          209,
          210,
          211,
          212,
          213,
          214,
          215
         ],
         "xaxis": "x",
         "y": [
          80115,
          79885,
          89325,
          101930,
          121630,
          116475,
          106495,
          102795,
          108055,
          116125,
          131030,
          149020,
          157590,
          150715,
          149295,
          150100,
          144780,
          150690,
          163840,
          166235,
          139520,
          105895,
          96780,
          82520,
          80125,
          75335,
          85105,
          102080,
          125135,
          118030,
          109225,
          102475,
          102240,
          115840,
          130540,
          144325,
          148970,
          149150,
          148040,
          148810,
          149830,
          150570,
          149440,
          150520,
          129130,
          103815,
          92175,
          82765,
          76315,
          75130,
          82640,
          88795,
          118430,
          115190,
          110940,
          98860,
          104185,
          108665,
          126640,
          140435,
          152470,
          146275,
          148020,
          147735,
          145750,
          149285,
          159725,
          161085,
          135520,
          112945,
          100200,
          87615,
          87835,
          88845,
          92350,
          104465,
          115940,
          128950,
          141385,
          144440,
          143250,
          133190,
          131240,
          142480,
          157375,
          152500,
          153735,
          151195,
          150645,
          147435,
          152525,
          146875,
          125245,
          117925,
          96700,
          93610,
          89060,
          89345,
          90575,
          98290,
          112570,
          129470,
          141405,
          152560,
          152580,
          141170,
          147550,
          161110,
          166335,
          166780,
          163140,
          157305,
          159055,
          160020,
          168345,
          169900,
          142710,
          112955,
          97345,
          81675,
          79510,
          78350,
          88045,
          99790,
          123780,
          111325,
          99440,
          97655,
          97655,
          102565,
          119930,
          135755,
          140120,
          141730,
          142220,
          145360,
          145335,
          150410,
          161520,
          153415,
          134720,
          107065,
          95045,
          79515,
          78335,
          74670,
          81990,
          97950,
          119345,
          113115,
          98880,
          94000,
          93660,
          104185,
          119750,
          135990,
          146455,
          139165,
          147225,
          144935,
          151370,
          156080,
          161385,
          165010,
          134090,
          105585,
          92855,
          79270,
          79980,
          78110,
          85785,
          100010,
          123880,
          116335,
          104290,
          101440,
          97635,
          108265,
          121250,
          140850,
          138555,
          140990,
          141525,
          141590,
          140610,
          139515,
          146215,
          142425,
          123945,
          101360,
          88170,
          76050,
          70335,
          72150,
          80195,
          94945,
          121910,
          113950,
          106495,
          97290,
          98860,
          105635,
          114380,
          132335,
          146630,
          141995,
          142815,
          146020,
          152120,
          151790,
          155665,
          155890,
          123395,
          103080,
          95155,
          80285
         ],
         "yaxis": "y"
        },
        {
         "mode": "lines",
         "type": "scatter",
         "x": [
          0,
          1,
          2,
          3,
          4,
          5,
          6,
          7,
          8,
          9,
          10,
          11,
          12,
          13,
          14,
          15,
          16,
          17,
          18,
          19,
          20,
          21,
          22,
          23,
          24,
          25,
          26,
          27,
          28,
          29,
          30,
          31,
          32,
          33,
          34,
          35,
          36,
          37,
          38,
          39,
          40,
          41,
          42,
          43,
          44,
          45,
          46,
          47,
          48,
          49,
          50,
          51,
          52,
          53,
          54,
          55,
          56,
          57,
          58,
          59,
          60,
          61,
          62,
          63,
          64,
          65,
          66,
          67,
          68,
          69,
          70,
          71,
          72,
          73,
          74,
          75,
          76,
          77,
          78,
          79,
          80,
          81,
          82,
          83,
          84,
          85,
          86,
          87,
          88,
          89,
          90,
          91,
          92,
          93,
          94,
          95,
          96,
          97,
          98,
          99,
          100,
          101,
          102,
          103,
          104,
          105,
          106,
          107,
          108,
          109,
          110,
          111,
          112,
          113,
          114,
          115,
          116,
          117,
          118,
          119,
          120,
          121,
          122,
          123,
          124,
          125,
          126,
          127,
          128,
          129,
          130,
          131,
          132,
          133,
          134,
          135,
          136,
          137,
          138,
          139,
          140,
          141,
          142,
          143,
          144,
          145,
          146,
          147,
          148,
          149,
          150,
          151,
          152,
          153,
          154,
          155,
          156,
          157,
          158,
          159,
          160,
          161,
          162,
          163,
          164,
          165,
          166,
          167,
          168,
          169,
          170,
          171,
          172,
          173,
          174,
          175,
          176,
          177,
          178,
          179,
          180,
          181,
          182,
          183,
          184,
          185,
          186,
          187,
          188,
          189,
          190,
          191,
          192,
          193,
          194,
          195,
          196,
          197,
          198,
          199,
          200,
          201,
          202,
          203,
          204,
          205,
          206,
          207,
          208,
          209,
          210,
          211,
          212,
          213,
          214,
          215
         ],
         "xaxis": "x2",
         "y": [
          null,
          null,
          null,
          null,
          null,
          null,
          null,
          null,
          null,
          null,
          null,
          null,
          123368.54166666666,
          123273.95833333333,
          123091.24999999999,
          123006.45833333334,
          123082.60416666666,
          123188.02083333331,
          123277.29166666664,
          123327.49999999999,
          123199.6875,
          123072.60416666667,
          123056.45833333334,
          122948.4375,
          122671.04166666669,
          122458.85416666669,
          122400.10416666669,
          122347.08333333334,
          122425.41666666667,
          122528.12500000001,
          122225.625,
          121598.22916666666,
          121054.37499999999,
          120794.58333333333,
          120655.31250000001,
          120564.47916666667,
          120490.20833333336,
          120406.56250000003,
          120350.93750000004,
          120022.81250000003,
          119606.3541666667,
          119407.50000000003,
          119384.06250000001,
          119344.47916666667,
          119309.6875,
          119200.72916666667,
          118969.99999999999,
          118807.70833333334,
          118799.58333333331,
          118812.60416666666,
          118752.29166666666,
          118729.47916666667,
          118622.08333333333,
          118510.31250000001,
          118697.81250000001,
          119132.1875,
          119485.41666666666,
          119808.75,
          120166.14583333333,
          120434.375,
          120775.41666666666,
          121301.14583333334,
          121789.16666666667,
          122317.91666666669,
          122592.5,
          122827.29166666666,
          123748.22916666667,
          125332.08333333336,
          127095.52083333334,
          128420.31250000001,
          129027.08333333334,
          129165.52083333331,
          129310.31249999999,
          129542.18749999999,
          129790.93749999999,
          129982.08333333333,
          130156.14583333334,
          130219.58333333334,
          130031.04166666667,
          129585,
          129074.89583333334,
          128964.58333333334,
          128995.41666666669,
          129047.39583333336,
          129197.81250000003,
          129233.75000000003,
          129207.18750000001,
          129041.5625,
          128842.70833333333,
          128783.33333333334,
          128794.58333333333,
          128964.16666666667,
          129327.70833333334,
          129688.33333333334,
          130194.37499999999,
          130922.29166666666,
          131497.0833333333,
          131981.25,
          132474.6875,
          132797.91666666666,
          133100.4166666667,
          133537.8125,
          134129.58333333334,
          134938.8541666667,
          135782.39583333334,
          136042.70833333334,
          135952.6041666667,
          135717.39583333334,
          135269.7916666667,
          134841.7708333333,
          134560.00000000003,
          134538.5416666667,
          134803.33333333334,
          134658.8541666667,
          133406.5625,
          131388.4375,
          129100.3125,
          127151.77083333333,
          125772.08333333333,
          124668.4375,
          123594.0625,
          122526.04166666664,
          121568.33333333333,
          120883.6458333333,
          120348.95833333331,
          119862.91666666666,
          119520.52083333331,
          119034.89583333331,
          118525.00000000001,
          118235.83333333334,
          118065.20833333336,
          117972.29166666667,
          117902.8125,
          117801.66666666666,
          117598.85416666666,
          117434.37499999999,
          117303.64583333333,
          117248.54166666666,
          117274.16666666666,
          117186.35416666664,
          117026.97916666666,
          116977.49999999999,
          117007.5,
          117008.64583333333,
          117145.52083333333,
          117224.0625,
          117274.89583333334,
          117370.31250000001,
          117487.18750000001,
          117731.04166666667,
          117846.35416666666,
          118085.10416666664,
          118313.54166666667,
          118269.58333333331,
          118193.12499999999,
          118142.3958333333,
          118171.56249999997,
          118277.49999999999,
          118428.22916666664,
          118550.20833333333,
          118687.60416666664,
          118849.16666666666,
          119028.95833333333,
          119296.66666666667,
          119534.47916666669,
          119702.29166666667,
          119818.54166666669,
          119951.04166666669,
          119887.70833333334,
          119761.14583333334,
          119680.41666666669,
          119491.97916666669,
          119198.125,
          118628.85416666666,
          117967.7083333333,
          117181.14583333331,
          116499.27083333331,
          116199.89583333333,
          116014.27083333333,
          115849.58333333333,
          115581.5625,
          115256.45833333334,
          115015.83333333334,
          114793.85416666666,
          114647.29166666667,
          114556.56249999999,
          114552.81249999999,
          114512.29166666666,
          114451.35416666666,
          114422.08333333334,
          114224.16666666667,
          113903.64583333333,
          113894.47916666666,
          114083.64583333333,
          114131.45833333333,
          114250.62499999999,
          114582.70833333331,
          115078.22916666664,
          115530.8333333333,
          116008.22916666664,
          116277.29166666667,
          116301.66666666667,
          116483.02083333333,
          116716.77083333334,
          null,
          null,
          null,
          null,
          null,
          null,
          null,
          null,
          null,
          null,
          null,
          null
         ],
         "yaxis": "y2"
        },
        {
         "mode": "lines",
         "type": "scatter",
         "x": [
          0,
          1,
          2,
          3,
          4,
          5,
          6,
          7,
          8,
          9,
          10,
          11,
          12,
          13,
          14,
          15,
          16,
          17,
          18,
          19,
          20,
          21,
          22,
          23,
          24,
          25,
          26,
          27,
          28,
          29,
          30,
          31,
          32,
          33,
          34,
          35,
          36,
          37,
          38,
          39,
          40,
          41,
          42,
          43,
          44,
          45,
          46,
          47,
          48,
          49,
          50,
          51,
          52,
          53,
          54,
          55,
          56,
          57,
          58,
          59,
          60,
          61,
          62,
          63,
          64,
          65,
          66,
          67,
          68,
          69,
          70,
          71,
          72,
          73,
          74,
          75,
          76,
          77,
          78,
          79,
          80,
          81,
          82,
          83,
          84,
          85,
          86,
          87,
          88,
          89,
          90,
          91,
          92,
          93,
          94,
          95,
          96,
          97,
          98,
          99,
          100,
          101,
          102,
          103,
          104,
          105,
          106,
          107,
          108,
          109,
          110,
          111,
          112,
          113,
          114,
          115,
          116,
          117,
          118,
          119,
          120,
          121,
          122,
          123,
          124,
          125,
          126,
          127,
          128,
          129,
          130,
          131,
          132,
          133,
          134,
          135,
          136,
          137,
          138,
          139,
          140,
          141,
          142,
          143,
          144,
          145,
          146,
          147,
          148,
          149,
          150,
          151,
          152,
          153,
          154,
          155,
          156,
          157,
          158,
          159,
          160,
          161,
          162,
          163,
          164,
          165,
          166,
          167,
          168,
          169,
          170,
          171,
          172,
          173,
          174,
          175,
          176,
          177,
          178,
          179,
          180,
          181,
          182,
          183,
          184,
          185,
          186,
          187,
          188,
          189,
          190,
          191,
          192,
          193,
          194,
          195,
          196,
          197,
          198,
          199,
          200,
          201,
          202,
          203,
          204,
          205,
          206,
          207,
          208,
          209,
          210,
          211,
          212,
          213,
          214,
          215
         ],
         "xaxis": "x3",
         "y": [
          -41858.40928819444,
          -43002.15928819444,
          -36118.82595486111,
          -23636.32595486111,
          -1811.6905381944453,
          -3661.7947048611113,
          -7931.495225694436,
          -10800.766059027768,
          -10563.708767361111,
          -6833.135850694445,
          4649.051649305549,
          19909.103732638883,
          28443.72612847222,
          25918.713107638883,
          26699.50737847222,
          25970.223524305547,
          26030.809461805555,
          28115.405815972226,
          35495.73133680556,
          34568.81727430556,
          10783.973524305553,
          -13831.638454861115,
          -27295.33637152778,
          -39239.77647569444,
          -41858.40928819444,
          -43002.15928819444,
          -36118.82595486111,
          -23636.32595486111,
          -1811.6905381944453,
          -3661.7947048611113,
          -7931.495225694436,
          -10800.766059027768,
          -10563.708767361111,
          -6833.135850694445,
          4649.051649305549,
          19909.103732638883,
          28443.72612847222,
          25918.713107638883,
          26699.50737847222,
          25970.223524305547,
          26030.809461805555,
          28115.405815972226,
          35495.73133680556,
          34568.81727430556,
          10783.973524305553,
          -13831.638454861115,
          -27295.33637152778,
          -39239.77647569444,
          -41858.40928819444,
          -43002.15928819444,
          -36118.82595486111,
          -23636.32595486111,
          -1811.6905381944453,
          -3661.7947048611113,
          -7931.495225694436,
          -10800.766059027768,
          -10563.708767361111,
          -6833.135850694445,
          4649.051649305549,
          19909.103732638883,
          28443.72612847222,
          25918.713107638883,
          26699.50737847222,
          25970.223524305547,
          26030.809461805555,
          28115.405815972226,
          35495.73133680556,
          34568.81727430556,
          10783.973524305553,
          -13831.638454861115,
          -27295.33637152778,
          -39239.77647569444,
          -41858.40928819444,
          -43002.15928819444,
          -36118.82595486111,
          -23636.32595486111,
          -1811.6905381944453,
          -3661.7947048611113,
          -7931.495225694436,
          -10800.766059027768,
          -10563.708767361111,
          -6833.135850694445,
          4649.051649305549,
          19909.103732638883,
          28443.72612847222,
          25918.713107638883,
          26699.50737847222,
          25970.223524305547,
          26030.809461805555,
          28115.405815972226,
          35495.73133680556,
          34568.81727430556,
          10783.973524305553,
          -13831.638454861115,
          -27295.33637152778,
          -39239.77647569444,
          -41858.40928819444,
          -43002.15928819444,
          -36118.82595486111,
          -23636.32595486111,
          -1811.6905381944453,
          -3661.7947048611113,
          -7931.495225694436,
          -10800.766059027768,
          -10563.708767361111,
          -6833.135850694445,
          4649.051649305549,
          19909.103732638883,
          28443.72612847222,
          25918.713107638883,
          26699.50737847222,
          25970.223524305547,
          26030.809461805555,
          28115.405815972226,
          35495.73133680556,
          34568.81727430556,
          10783.973524305553,
          -13831.638454861115,
          -27295.33637152778,
          -39239.77647569444,
          -41858.40928819444,
          -43002.15928819444,
          -36118.82595486111,
          -23636.32595486111,
          -1811.6905381944453,
          -3661.7947048611113,
          -7931.495225694436,
          -10800.766059027768,
          -10563.708767361111,
          -6833.135850694445,
          4649.051649305549,
          19909.103732638883,
          28443.72612847222,
          25918.713107638883,
          26699.50737847222,
          25970.223524305547,
          26030.809461805555,
          28115.405815972226,
          35495.73133680556,
          34568.81727430556,
          10783.973524305553,
          -13831.638454861115,
          -27295.33637152778,
          -39239.77647569444,
          -41858.40928819444,
          -43002.15928819444,
          -36118.82595486111,
          -23636.32595486111,
          -1811.6905381944453,
          -3661.7947048611113,
          -7931.495225694436,
          -10800.766059027768,
          -10563.708767361111,
          -6833.135850694445,
          4649.051649305549,
          19909.103732638883,
          28443.72612847222,
          25918.713107638883,
          26699.50737847222,
          25970.223524305547,
          26030.809461805555,
          28115.405815972226,
          35495.73133680556,
          34568.81727430556,
          10783.973524305553,
          -13831.638454861115,
          -27295.33637152778,
          -39239.77647569444,
          -41858.40928819444,
          -43002.15928819444,
          -36118.82595486111,
          -23636.32595486111,
          -1811.6905381944453,
          -3661.7947048611113,
          -7931.495225694436,
          -10800.766059027768,
          -10563.708767361111,
          -6833.135850694445,
          4649.051649305549,
          19909.103732638883,
          28443.72612847222,
          25918.713107638883,
          26699.50737847222,
          25970.223524305547,
          26030.809461805555,
          28115.405815972226,
          35495.73133680556,
          34568.81727430556,
          10783.973524305553,
          -13831.638454861115,
          -27295.33637152778,
          -39239.77647569444,
          -41858.40928819444,
          -43002.15928819444,
          -36118.82595486111,
          -23636.32595486111,
          -1811.6905381944453,
          -3661.7947048611113,
          -7931.495225694436,
          -10800.766059027768,
          -10563.708767361111,
          -6833.135850694445,
          4649.051649305549,
          19909.103732638883,
          28443.72612847222,
          25918.713107638883,
          26699.50737847222,
          25970.223524305547,
          26030.809461805555,
          28115.405815972226,
          35495.73133680556,
          34568.81727430556,
          10783.973524305553,
          -13831.638454861115,
          -27295.33637152778,
          -39239.77647569444
         ],
         "yaxis": "y3"
        },
        {
         "mode": "lines",
         "type": "scatter",
         "x": [
          0,
          1,
          2,
          3,
          4,
          5,
          6,
          7,
          8,
          9,
          10,
          11,
          12,
          13,
          14,
          15,
          16,
          17,
          18,
          19,
          20,
          21,
          22,
          23,
          24,
          25,
          26,
          27,
          28,
          29,
          30,
          31,
          32,
          33,
          34,
          35,
          36,
          37,
          38,
          39,
          40,
          41,
          42,
          43,
          44,
          45,
          46,
          47,
          48,
          49,
          50,
          51,
          52,
          53,
          54,
          55,
          56,
          57,
          58,
          59,
          60,
          61,
          62,
          63,
          64,
          65,
          66,
          67,
          68,
          69,
          70,
          71,
          72,
          73,
          74,
          75,
          76,
          77,
          78,
          79,
          80,
          81,
          82,
          83,
          84,
          85,
          86,
          87,
          88,
          89,
          90,
          91,
          92,
          93,
          94,
          95,
          96,
          97,
          98,
          99,
          100,
          101,
          102,
          103,
          104,
          105,
          106,
          107,
          108,
          109,
          110,
          111,
          112,
          113,
          114,
          115,
          116,
          117,
          118,
          119,
          120,
          121,
          122,
          123,
          124,
          125,
          126,
          127,
          128,
          129,
          130,
          131,
          132,
          133,
          134,
          135,
          136,
          137,
          138,
          139,
          140,
          141,
          142,
          143,
          144,
          145,
          146,
          147,
          148,
          149,
          150,
          151,
          152,
          153,
          154,
          155,
          156,
          157,
          158,
          159,
          160,
          161,
          162,
          163,
          164,
          165,
          166,
          167,
          168,
          169,
          170,
          171,
          172,
          173,
          174,
          175,
          176,
          177,
          178,
          179,
          180,
          181,
          182,
          183,
          184,
          185,
          186,
          187,
          188,
          189,
          190,
          191,
          192,
          193,
          194,
          195,
          196,
          197,
          198,
          199,
          200,
          201,
          202,
          203,
          204,
          205,
          206,
          207,
          208,
          209,
          210,
          211,
          212,
          213,
          214,
          215
         ],
         "xaxis": "x4",
         "y": [
          null,
          null,
          null,
          null,
          null,
          null,
          null,
          null,
          null,
          null,
          null,
          null,
          5777.732204861124,
          1522.3285590277883,
          -495.75737847220444,
          1123.3181423611095,
          -4333.413628472212,
          -613.4266493055402,
          5066.976996527796,
          8338.682725694453,
          5536.338975694447,
          -3345.9657118055566,
          1018.878038194438,
          -1188.661024305562,
          -687.6323784722481,
          -4121.694878472248,
          -1176.2782118055766,
          3369.2426215277665,
          4521.273871527774,
          -836.3302951389032,
          -5069.129774305564,
          -8322.463107638889,
          -8250.666232638874,
          1878.5525173611168,
          5235.635850694436,
          3851.4171006944453,
          36.065538194423425,
          2824.7243923610877,
          989.5551215277374,
          2816.9639756944234,
          4192.836371527745,
          3047.0941840277446,
          -5439.793836805577,
          -3393.2964409722335,
          -963.6610243055529,
          -1554.0907118055566,
          500.33637152779556,
          3197.068142361095,
          -626.174045138876,
          -680.444878472219,
          6.534288194452529,
          -6298.153211805562,
          1619.6072048611168,
          341.48220486109676,
          173.6827256944216,
          -9471.421440972232,
          -4736.707899305546,
          -4310.614149305555,
          1824.8025173611222,
          91.52126736111677,
          3250.857204861124,
          -944.8589409722263,
          -468.6740451388905,
          -553.1401909722335,
          -2873.3094618055547,
          -1657.6974826388832,
          481.03949652776646,
          1184.0993923610804,
          -2359.494357638896,
          -1643.6740451388996,
          -1531.746961805562,
          -2310.744357638876,
          383.09678819445253,
          2304.9717881944525,
          -1322.111545138876,
          -1880.757378472219,
          -12404.455295138898,
          2392.2113715277683,
          19285.453559027766,
          25655.766059027766,
          24738.812934027766,
          11058.552517361102,
          -2404.4683159722354,
          -6476.499565972241,
          -266.5386284722481,
          -2652.4631076389123,
          -2171.6948784722335,
          -3816.7860243055475,
          -4228.517795138883,
          -9463.73914930557,
          -11765.31467013889,
          -16657.983940972234,
          -14866.681857638896,
          2068.305121527772,
          -6199.038628472204,
          1927.484809027781,
          -578.674045138876,
          365.909288194438,
          -5780.8615451388905,
          -10871.590711805547,
          -18718.72612847224,
          -406.0177951388887,
          15206.911892361093,
          28421.91189236108,
          27361.312934027766,
          11960.427517361102,
          6948.344184027765,
          5483.500434027774,
          2621.482204861095,
          6019.516059027803,
          1880.492621527752,
          -3203.7651909722335,
          -1779.1427951388978,
          -2754.2599826389123,
          -557.293836805562,
          3942.745225694438,
          2825.713975694447,
          -365.13237847221353,
          -1131.7469618055475,
          -3753.661024305562,
          -2225.653211805562,
          -1173.8823784722044,
          2595.492621527781,
          2542.68012152781,
          5242.732204861131,
          -4876.121961805546,
          -12149.025607638878,
          -10579.129774305546,
          -10306.291232638903,
          -8837.697482638898,
          -2784.259982638907,
          -2126.3953993055547,
          -6226.538628472219,
          -1990.3797743055402,
          -2078.361545138876,
          1955.401475694467,
          2000.5447048611168,
          5046.052517361117,
          8750.101996527781,
          1659.8285590277956,
          6909.04730902779,
          3919.1384548611295,
          5332.836371527781,
          1746.1306423611095,
          3047.8884548611095,
          448.096788194438,
          833.9301215277665,
          4216.013454861095,
          3669.5030381944307,
          -954.2469618055602,
          -11034.85894097222,
          -13284.338107638874,
          -14089.83289930556,
          -7251.447482638869,
          -3092.1766493055347,
          -2061.4995659721826,
          -160.28862847218988,
          -5031.213107638869,
          2097.2634548611386,
          414.56814236112405,
          6651.586371527803,
          9115.427517361117,
          6860.3103298611095,
          11144.516059027766,
          3771.547309027761,
          -285.65321180555657,
          331.79470486109494,
          -1441.265190972248,
          1950.700954861095,
          1351.013454861095,
          2223.4092881944234,
          4154.346788194423,
          6493.565538194445,
          1367.9405381944543,
          -5746.213107638863,
          -4940.379774305546,
          -8300.562065972203,
          -1101.7599826388832,
          586.6775173611222,
          5091.312934027788,
          -5470.288628472219,
          -185.17144097222626,
          -190.34071180556202,
          825.9223090277956,
          -68.10112847222626,
          -3156.9683159722117,
          -3833.5438368055475,
          -6656.108940972219,
          -1290.32769097221,
          769.5551215277719,
          1241.1697048611095,
          1386.1306423611095,
          -1701.069878472219,
          1068.5134548611095,
          2182.367621527781,
          4330.700954861124,
          9138.982204861131,
          2533.565538194469,
          -1104.3381076388632,
          -7917.463107638874,
          -6853.58289930556,
          -3833.5308159722263,
          -6752.072482638878,
          -4290.874565972226,
          null,
          null,
          null,
          null,
          null,
          null,
          null,
          null,
          null,
          null,
          null,
          null
         ],
         "yaxis": "y4"
        }
       ],
       "layout": {
        "annotations": [
         {
          "font": {
           "size": 16
          },
          "showarrow": false,
          "text": "Observed",
          "x": 0.5,
          "xanchor": "center",
          "xref": "paper",
          "y": 1,
          "yanchor": "bottom",
          "yref": "paper"
         },
         {
          "font": {
           "size": 16
          },
          "showarrow": false,
          "text": "Trend",
          "x": 0.5,
          "xanchor": "center",
          "xref": "paper",
          "y": 0.71875,
          "yanchor": "bottom",
          "yref": "paper"
         },
         {
          "font": {
           "size": 16
          },
          "showarrow": false,
          "text": "Seasonal",
          "x": 0.5,
          "xanchor": "center",
          "xref": "paper",
          "y": 0.4375,
          "yanchor": "bottom",
          "yref": "paper"
         },
         {
          "font": {
           "size": 16
          },
          "showarrow": false,
          "text": "Residuals",
          "x": 0.5,
          "xanchor": "center",
          "xref": "paper",
          "y": 0.15625,
          "yanchor": "bottom",
          "yref": "paper"
         }
        ],
        "template": {
         "data": {
          "bar": [
           {
            "error_x": {
             "color": "#2a3f5f"
            },
            "error_y": {
             "color": "#2a3f5f"
            },
            "marker": {
             "line": {
              "color": "#E5ECF6",
              "width": 0.5
             },
             "pattern": {
              "fillmode": "overlay",
              "size": 10,
              "solidity": 0.2
             }
            },
            "type": "bar"
           }
          ],
          "barpolar": [
           {
            "marker": {
             "line": {
              "color": "#E5ECF6",
              "width": 0.5
             },
             "pattern": {
              "fillmode": "overlay",
              "size": 10,
              "solidity": 0.2
             }
            },
            "type": "barpolar"
           }
          ],
          "carpet": [
           {
            "aaxis": {
             "endlinecolor": "#2a3f5f",
             "gridcolor": "white",
             "linecolor": "white",
             "minorgridcolor": "white",
             "startlinecolor": "#2a3f5f"
            },
            "baxis": {
             "endlinecolor": "#2a3f5f",
             "gridcolor": "white",
             "linecolor": "white",
             "minorgridcolor": "white",
             "startlinecolor": "#2a3f5f"
            },
            "type": "carpet"
           }
          ],
          "choropleth": [
           {
            "colorbar": {
             "outlinewidth": 0,
             "ticks": ""
            },
            "type": "choropleth"
           }
          ],
          "contour": [
           {
            "colorbar": {
             "outlinewidth": 0,
             "ticks": ""
            },
            "colorscale": [
             [
              0,
              "#0d0887"
             ],
             [
              0.1111111111111111,
              "#46039f"
             ],
             [
              0.2222222222222222,
              "#7201a8"
             ],
             [
              0.3333333333333333,
              "#9c179e"
             ],
             [
              0.4444444444444444,
              "#bd3786"
             ],
             [
              0.5555555555555556,
              "#d8576b"
             ],
             [
              0.6666666666666666,
              "#ed7953"
             ],
             [
              0.7777777777777778,
              "#fb9f3a"
             ],
             [
              0.8888888888888888,
              "#fdca26"
             ],
             [
              1,
              "#f0f921"
             ]
            ],
            "type": "contour"
           }
          ],
          "contourcarpet": [
           {
            "colorbar": {
             "outlinewidth": 0,
             "ticks": ""
            },
            "type": "contourcarpet"
           }
          ],
          "heatmap": [
           {
            "colorbar": {
             "outlinewidth": 0,
             "ticks": ""
            },
            "colorscale": [
             [
              0,
              "#0d0887"
             ],
             [
              0.1111111111111111,
              "#46039f"
             ],
             [
              0.2222222222222222,
              "#7201a8"
             ],
             [
              0.3333333333333333,
              "#9c179e"
             ],
             [
              0.4444444444444444,
              "#bd3786"
             ],
             [
              0.5555555555555556,
              "#d8576b"
             ],
             [
              0.6666666666666666,
              "#ed7953"
             ],
             [
              0.7777777777777778,
              "#fb9f3a"
             ],
             [
              0.8888888888888888,
              "#fdca26"
             ],
             [
              1,
              "#f0f921"
             ]
            ],
            "type": "heatmap"
           }
          ],
          "heatmapgl": [
           {
            "colorbar": {
             "outlinewidth": 0,
             "ticks": ""
            },
            "colorscale": [
             [
              0,
              "#0d0887"
             ],
             [
              0.1111111111111111,
              "#46039f"
             ],
             [
              0.2222222222222222,
              "#7201a8"
             ],
             [
              0.3333333333333333,
              "#9c179e"
             ],
             [
              0.4444444444444444,
              "#bd3786"
             ],
             [
              0.5555555555555556,
              "#d8576b"
             ],
             [
              0.6666666666666666,
              "#ed7953"
             ],
             [
              0.7777777777777778,
              "#fb9f3a"
             ],
             [
              0.8888888888888888,
              "#fdca26"
             ],
             [
              1,
              "#f0f921"
             ]
            ],
            "type": "heatmapgl"
           }
          ],
          "histogram": [
           {
            "marker": {
             "pattern": {
              "fillmode": "overlay",
              "size": 10,
              "solidity": 0.2
             }
            },
            "type": "histogram"
           }
          ],
          "histogram2d": [
           {
            "colorbar": {
             "outlinewidth": 0,
             "ticks": ""
            },
            "colorscale": [
             [
              0,
              "#0d0887"
             ],
             [
              0.1111111111111111,
              "#46039f"
             ],
             [
              0.2222222222222222,
              "#7201a8"
             ],
             [
              0.3333333333333333,
              "#9c179e"
             ],
             [
              0.4444444444444444,
              "#bd3786"
             ],
             [
              0.5555555555555556,
              "#d8576b"
             ],
             [
              0.6666666666666666,
              "#ed7953"
             ],
             [
              0.7777777777777778,
              "#fb9f3a"
             ],
             [
              0.8888888888888888,
              "#fdca26"
             ],
             [
              1,
              "#f0f921"
             ]
            ],
            "type": "histogram2d"
           }
          ],
          "histogram2dcontour": [
           {
            "colorbar": {
             "outlinewidth": 0,
             "ticks": ""
            },
            "colorscale": [
             [
              0,
              "#0d0887"
             ],
             [
              0.1111111111111111,
              "#46039f"
             ],
             [
              0.2222222222222222,
              "#7201a8"
             ],
             [
              0.3333333333333333,
              "#9c179e"
             ],
             [
              0.4444444444444444,
              "#bd3786"
             ],
             [
              0.5555555555555556,
              "#d8576b"
             ],
             [
              0.6666666666666666,
              "#ed7953"
             ],
             [
              0.7777777777777778,
              "#fb9f3a"
             ],
             [
              0.8888888888888888,
              "#fdca26"
             ],
             [
              1,
              "#f0f921"
             ]
            ],
            "type": "histogram2dcontour"
           }
          ],
          "mesh3d": [
           {
            "colorbar": {
             "outlinewidth": 0,
             "ticks": ""
            },
            "type": "mesh3d"
           }
          ],
          "parcoords": [
           {
            "line": {
             "colorbar": {
              "outlinewidth": 0,
              "ticks": ""
             }
            },
            "type": "parcoords"
           }
          ],
          "pie": [
           {
            "automargin": true,
            "type": "pie"
           }
          ],
          "scatter": [
           {
            "fillpattern": {
             "fillmode": "overlay",
             "size": 10,
             "solidity": 0.2
            },
            "type": "scatter"
           }
          ],
          "scatter3d": [
           {
            "line": {
             "colorbar": {
              "outlinewidth": 0,
              "ticks": ""
             }
            },
            "marker": {
             "colorbar": {
              "outlinewidth": 0,
              "ticks": ""
             }
            },
            "type": "scatter3d"
           }
          ],
          "scattercarpet": [
           {
            "marker": {
             "colorbar": {
              "outlinewidth": 0,
              "ticks": ""
             }
            },
            "type": "scattercarpet"
           }
          ],
          "scattergeo": [
           {
            "marker": {
             "colorbar": {
              "outlinewidth": 0,
              "ticks": ""
             }
            },
            "type": "scattergeo"
           }
          ],
          "scattergl": [
           {
            "marker": {
             "colorbar": {
              "outlinewidth": 0,
              "ticks": ""
             }
            },
            "type": "scattergl"
           }
          ],
          "scattermapbox": [
           {
            "marker": {
             "colorbar": {
              "outlinewidth": 0,
              "ticks": ""
             }
            },
            "type": "scattermapbox"
           }
          ],
          "scatterpolar": [
           {
            "marker": {
             "colorbar": {
              "outlinewidth": 0,
              "ticks": ""
             }
            },
            "type": "scatterpolar"
           }
          ],
          "scatterpolargl": [
           {
            "marker": {
             "colorbar": {
              "outlinewidth": 0,
              "ticks": ""
             }
            },
            "type": "scatterpolargl"
           }
          ],
          "scatterternary": [
           {
            "marker": {
             "colorbar": {
              "outlinewidth": 0,
              "ticks": ""
             }
            },
            "type": "scatterternary"
           }
          ],
          "surface": [
           {
            "colorbar": {
             "outlinewidth": 0,
             "ticks": ""
            },
            "colorscale": [
             [
              0,
              "#0d0887"
             ],
             [
              0.1111111111111111,
              "#46039f"
             ],
             [
              0.2222222222222222,
              "#7201a8"
             ],
             [
              0.3333333333333333,
              "#9c179e"
             ],
             [
              0.4444444444444444,
              "#bd3786"
             ],
             [
              0.5555555555555556,
              "#d8576b"
             ],
             [
              0.6666666666666666,
              "#ed7953"
             ],
             [
              0.7777777777777778,
              "#fb9f3a"
             ],
             [
              0.8888888888888888,
              "#fdca26"
             ],
             [
              1,
              "#f0f921"
             ]
            ],
            "type": "surface"
           }
          ],
          "table": [
           {
            "cells": {
             "fill": {
              "color": "#EBF0F8"
             },
             "line": {
              "color": "white"
             }
            },
            "header": {
             "fill": {
              "color": "#C8D4E3"
             },
             "line": {
              "color": "white"
             }
            },
            "type": "table"
           }
          ]
         },
         "layout": {
          "annotationdefaults": {
           "arrowcolor": "#2a3f5f",
           "arrowhead": 0,
           "arrowwidth": 1
          },
          "autotypenumbers": "strict",
          "coloraxis": {
           "colorbar": {
            "outlinewidth": 0,
            "ticks": ""
           }
          },
          "colorscale": {
           "diverging": [
            [
             0,
             "#8e0152"
            ],
            [
             0.1,
             "#c51b7d"
            ],
            [
             0.2,
             "#de77ae"
            ],
            [
             0.3,
             "#f1b6da"
            ],
            [
             0.4,
             "#fde0ef"
            ],
            [
             0.5,
             "#f7f7f7"
            ],
            [
             0.6,
             "#e6f5d0"
            ],
            [
             0.7,
             "#b8e186"
            ],
            [
             0.8,
             "#7fbc41"
            ],
            [
             0.9,
             "#4d9221"
            ],
            [
             1,
             "#276419"
            ]
           ],
           "sequential": [
            [
             0,
             "#0d0887"
            ],
            [
             0.1111111111111111,
             "#46039f"
            ],
            [
             0.2222222222222222,
             "#7201a8"
            ],
            [
             0.3333333333333333,
             "#9c179e"
            ],
            [
             0.4444444444444444,
             "#bd3786"
            ],
            [
             0.5555555555555556,
             "#d8576b"
            ],
            [
             0.6666666666666666,
             "#ed7953"
            ],
            [
             0.7777777777777778,
             "#fb9f3a"
            ],
            [
             0.8888888888888888,
             "#fdca26"
            ],
            [
             1,
             "#f0f921"
            ]
           ],
           "sequentialminus": [
            [
             0,
             "#0d0887"
            ],
            [
             0.1111111111111111,
             "#46039f"
            ],
            [
             0.2222222222222222,
             "#7201a8"
            ],
            [
             0.3333333333333333,
             "#9c179e"
            ],
            [
             0.4444444444444444,
             "#bd3786"
            ],
            [
             0.5555555555555556,
             "#d8576b"
            ],
            [
             0.6666666666666666,
             "#ed7953"
            ],
            [
             0.7777777777777778,
             "#fb9f3a"
            ],
            [
             0.8888888888888888,
             "#fdca26"
            ],
            [
             1,
             "#f0f921"
            ]
           ]
          },
          "colorway": [
           "#636efa",
           "#EF553B",
           "#00cc96",
           "#ab63fa",
           "#FFA15A",
           "#19d3f3",
           "#FF6692",
           "#B6E880",
           "#FF97FF",
           "#FECB52"
          ],
          "font": {
           "color": "#2a3f5f"
          },
          "geo": {
           "bgcolor": "white",
           "lakecolor": "white",
           "landcolor": "#E5ECF6",
           "showlakes": true,
           "showland": true,
           "subunitcolor": "white"
          },
          "hoverlabel": {
           "align": "left"
          },
          "hovermode": "closest",
          "mapbox": {
           "style": "light"
          },
          "paper_bgcolor": "white",
          "plot_bgcolor": "#E5ECF6",
          "polar": {
           "angularaxis": {
            "gridcolor": "white",
            "linecolor": "white",
            "ticks": ""
           },
           "bgcolor": "#E5ECF6",
           "radialaxis": {
            "gridcolor": "white",
            "linecolor": "white",
            "ticks": ""
           }
          },
          "scene": {
           "xaxis": {
            "backgroundcolor": "#E5ECF6",
            "gridcolor": "white",
            "gridwidth": 2,
            "linecolor": "white",
            "showbackground": true,
            "ticks": "",
            "zerolinecolor": "white"
           },
           "yaxis": {
            "backgroundcolor": "#E5ECF6",
            "gridcolor": "white",
            "gridwidth": 2,
            "linecolor": "white",
            "showbackground": true,
            "ticks": "",
            "zerolinecolor": "white"
           },
           "zaxis": {
            "backgroundcolor": "#E5ECF6",
            "gridcolor": "white",
            "gridwidth": 2,
            "linecolor": "white",
            "showbackground": true,
            "ticks": "",
            "zerolinecolor": "white"
           }
          },
          "shapedefaults": {
           "line": {
            "color": "#2a3f5f"
           }
          },
          "ternary": {
           "aaxis": {
            "gridcolor": "white",
            "linecolor": "white",
            "ticks": ""
           },
           "baxis": {
            "gridcolor": "white",
            "linecolor": "white",
            "ticks": ""
           },
           "bgcolor": "#E5ECF6",
           "caxis": {
            "gridcolor": "white",
            "linecolor": "white",
            "ticks": ""
           }
          },
          "title": {
           "x": 0.05
          },
          "xaxis": {
           "automargin": true,
           "gridcolor": "white",
           "linecolor": "white",
           "ticks": "",
           "title": {
            "standoff": 15
           },
           "zerolinecolor": "white",
           "zerolinewidth": 2
          },
          "yaxis": {
           "automargin": true,
           "gridcolor": "white",
           "linecolor": "white",
           "ticks": "",
           "title": {
            "standoff": 15
           },
           "zerolinecolor": "white",
           "zerolinewidth": 2
          }
         }
        },
        "xaxis": {
         "anchor": "y",
         "domain": [
          0,
          1
         ]
        },
        "xaxis2": {
         "anchor": "y2",
         "domain": [
          0,
          1
         ]
        },
        "xaxis3": {
         "anchor": "y3",
         "domain": [
          0,
          1
         ]
        },
        "xaxis4": {
         "anchor": "y4",
         "domain": [
          0,
          1
         ]
        },
        "yaxis": {
         "anchor": "x",
         "domain": [
          0.84375,
          1
         ]
        },
        "yaxis2": {
         "anchor": "x2",
         "domain": [
          0.5625,
          0.71875
         ]
        },
        "yaxis3": {
         "anchor": "x3",
         "domain": [
          0.28125,
          0.4375
         ]
        },
        "yaxis4": {
         "anchor": "x4",
         "domain": [
          0,
          0.15625
         ]
        }
       }
      }
     },
     "metadata": {},
     "output_type": "display_data"
    }
   ],
   "source": [
    "plotSeasonalDecompose(\n",
    "    df[\"y\"],\n",
    "    model=\"additive\",\n",
    "    period=24,\n",
    "    title=\"Seasonal Decomposition\")"
   ]
  },
  {
   "cell_type": "markdown",
   "metadata": {},
   "source": [
    "## Split the data into training and testing<a class=\"anchor\" id=\"splitting\"></a>\n",
    "\n",
    "Let's divide our data into sets\n",
    "1. Data to train our `MSTL Model`.\n",
    "2. Data to test our model\n",
    "\n",
    "For the test data we will use the last 30 Hours to test and evaluate the performance of our model."
   ]
  },
  {
   "cell_type": "code",
   "execution_count": null,
   "metadata": {},
   "outputs": [],
   "source": [
    "train = df[df.ds<='2017-09-20 17:00:00'] \n",
    "test = df[df.ds>'2017-09-20 17:00:00'] "
   ]
  },
  {
   "cell_type": "code",
   "execution_count": null,
   "metadata": {},
   "outputs": [
    {
     "data": {
      "text/plain": [
       "((186, 3), (30, 3))"
      ]
     },
     "execution_count": null,
     "metadata": {},
     "output_type": "execute_result"
    }
   ],
   "source": [
    "train.shape, test.shape"
   ]
  },
  {
   "cell_type": "markdown",
   "metadata": {},
   "source": [
    "Now let's plot the training data and the test data."
   ]
  },
  {
   "cell_type": "code",
   "execution_count": null,
   "metadata": {},
   "outputs": [
    {
     "data": {
      "image/png": "[encoded data removed]",
      "text/plain": [
       "<Figure size 1800x700 with 1 Axes>"
      ]
     },
     "metadata": {},
     "output_type": "display_data"
    }
   ],
   "source": [
    "sns.lineplot(train,x=\"ds\", y=\"y\", label=\"Train\", linestyle=\"--\",linewidth=2)\n",
    "sns.lineplot(test, x=\"ds\", y=\"y\", label=\"Test\", linewidth=2, color=\"yellow\")\n",
    "plt.title(\"Ads watched (hourly data)\");\n",
    "plt.xlabel(\"Hours\")\n",
    "plt.show()"
   ]
  },
  {
   "cell_type": "markdown",
   "metadata": {},
   "source": [
    "## Implementation of MSTL Method with StatsForecast <a class=\"anchor\" id=\"implementation\"></a>\n",
    "\n",
    "To also know more about the parameters of the functions of the `MSTL Model`, they are listed below. For more information, visit the [documentation][here](https://nixtla.github.io/statsforecast/src/core/models.html#multiple-seasonalities).\n",
    "\n",
    "```\n",
    "season_length : Union[int, List[int]\n",
    "    Number of observations per unit of time. For multiple seasonalities use a list.\n",
    "trend_forecaster : model\n",
    "    StatsForecast model used to forecast the trend component.\n",
    "alias : str\n",
    "    Custom name of the model.\n",
    "```"
   ]
  },
  {
   "cell_type": "markdown",
   "metadata": {},
   "source": [
    "### Load libraries"
   ]
  },
  {
   "cell_type": "code",
   "execution_count": null,
   "metadata": {},
   "outputs": [],
   "source": [
    "from statsforecast import StatsForecast\n",
    "from statsforecast.models import MSTL, AutoARIMA"
   ]
  },
  {
   "cell_type": "markdown",
   "metadata": {},
   "source": [
    "### Instantiating Model\n",
    "Import and instantiate the models. Setting the argument is sometimes tricky. This article on [Seasonal periods](https://robjhyndman.com/hyndsight/seasonal-periods/) by the master, Rob Hyndmann, can be useful for `season_length`.\n",
    "\n",
    "First, we must define the model parameters. As mentioned before, the Candy production load presents seasonalities every 24 hours (Hourly) and every 24 * 7 (Daily) hours. Therefore, we will use `[24, 24 * 7]` for season length. The trend component will be forecasted with an `AutoARIMA` model. (You can also try with: `AutoTheta`, `AutoCES`, and `AutoETS`)\n"
   ]
  },
  {
   "cell_type": "code",
   "execution_count": null,
   "metadata": {},
   "outputs": [],
   "source": [
    "from statsforecast.utils import ConformalIntervals\n",
    "horizon = len(test) # number of predictions\n",
    "\n",
    "models = [MSTL(season_length=[24, 168], # seasonalities of the time series \n",
    "trend_forecaster=AutoARIMA(prediction_intervals=ConformalIntervals(n_windows=3, h=horizon)))]"
   ]
  },
  {
   "cell_type": "markdown",
   "metadata": {},
   "source": [
    "We fit the models by instantiating a new StatsForecast object with the following parameters:\n",
    "\n",
    "models: a list of models. Select the models you want from models and import them.\n",
    "\n",
    "* `freq:` a string indicating the frequency of the data. (See [pandas’ available frequencies](https://pandas.pydata.org/pandas-docs/stable/user_guide/timeseries.html#offset-aliases).)\n",
    "\n",
    "* `n_jobs:` n_jobs: int, number of jobs used in the parallel processing, use -1 for all cores.\n",
    "\n",
    "* `fallback_model:` a model to be used if a model fails.\n",
    "\n",
    "Any settings are passed into the constructor. Then you call its fit method and pass in the historical data frame."
   ]
  },
  {
   "cell_type": "code",
   "execution_count": null,
   "metadata": {},
   "outputs": [],
   "source": [
    "sf = StatsForecast(df=df,\n",
    "                   models=models,\n",
    "                   freq='H', \n",
    "                   n_jobs=-1)"
   ]
  },
  {
   "cell_type": "markdown",
   "metadata": {},
   "source": [
    "### Fit Model"
   ]
  },
  {
   "cell_type": "code",
   "execution_count": null,
   "metadata": {},
   "outputs": [
    {
     "data": {
      "text/plain": [
       "StatsForecast(models=[MSTL])"
      ]
     },
     "execution_count": null,
     "metadata": {},
     "output_type": "execute_result"
    }
   ],
   "source": [
    "sf.fit()"
   ]
  },
  {
   "cell_type": "markdown",
   "metadata": {},
   "source": [
    "Let's see the results of our `MSTL Model`. We can observe it with the following instruction:"
   ]
  },
  {
   "cell_type": "code",
   "execution_count": null,
   "metadata": {},
   "outputs": [
    {
     "data": {
      "text/html": [
       "<div>\n",
       "<style scoped>\n",
       "    .dataframe tbody tr th:only-of-type {\n",
       "        vertical-align: middle;\n",
       "    }\n",
       "\n",
       "    .dataframe tbody tr th {\n",
       "        vertical-align: top;\n",
       "    }\n",
       "\n",
       "    .dataframe thead th {\n",
       "        text-align: right;\n",
       "    }\n",
       "</style>\n",
       "<table border=\"1\" class=\"dataframe\">\n",
       "  <thead>\n",
       "    <tr style=\"text-align: right;\">\n",
       "      <th></th>\n",
       "      <th>data</th>\n",
       "      <th>trend</th>\n",
       "      <th>seasonal24</th>\n",
       "      <th>seasonal168</th>\n",
       "      <th>remainder</th>\n",
       "    </tr>\n",
       "  </thead>\n",
       "  <tbody>\n",
       "    <tr>\n",
       "      <th>0</th>\n",
       "      <td>80115.0</td>\n",
       "      <td>126671.223975</td>\n",
       "      <td>-42015.126409</td>\n",
       "      <td>-1882.157178</td>\n",
       "      <td>-2658.940388</td>\n",
       "    </tr>\n",
       "    <tr>\n",
       "      <th>1</th>\n",
       "      <td>79885.0</td>\n",
       "      <td>126633.864017</td>\n",
       "      <td>-43562.628320</td>\n",
       "      <td>-1744.429759</td>\n",
       "      <td>-1441.805937</td>\n",
       "    </tr>\n",
       "    <tr>\n",
       "      <th>2</th>\n",
       "      <td>89325.0</td>\n",
       "      <td>126596.519614</td>\n",
       "      <td>-36535.489263</td>\n",
       "      <td>104.986307</td>\n",
       "      <td>-841.016659</td>\n",
       "    </tr>\n",
       "    <tr>\n",
       "      <th>...</th>\n",
       "      <td>...</td>\n",
       "      <td>...</td>\n",
       "      <td>...</td>\n",
       "      <td>...</td>\n",
       "      <td>...</td>\n",
       "    </tr>\n",
       "    <tr>\n",
       "      <th>213</th>\n",
       "      <td>103080.0</td>\n",
       "      <td>119433.722676</td>\n",
       "      <td>-13488.006561</td>\n",
       "      <td>-4840.338623</td>\n",
       "      <td>1974.622508</td>\n",
       "    </tr>\n",
       "    <tr>\n",
       "      <th>214</th>\n",
       "      <td>95155.0</td>\n",
       "      <td>119403.419736</td>\n",
       "      <td>-27159.429895</td>\n",
       "      <td>-928.487998</td>\n",
       "      <td>3839.498158</td>\n",
       "    </tr>\n",
       "    <tr>\n",
       "      <th>215</th>\n",
       "      <td>80285.0</td>\n",
       "      <td>119373.145455</td>\n",
       "      <td>-39617.228552</td>\n",
       "      <td>-929.451981</td>\n",
       "      <td>1458.535078</td>\n",
       "    </tr>\n",
       "  </tbody>\n",
       "</table>\n",
       "<p>216 rows × 5 columns</p>\n",
       "</div>"
      ],
      "text/plain": [
       "         data          trend    seasonal24  seasonal168    remainder\n",
       "0     80115.0  126671.223975 -42015.126409 -1882.157178 -2658.940388\n",
       "1     79885.0  126633.864017 -43562.628320 -1744.429759 -1441.805937\n",
       "2     89325.0  126596.519614 -36535.489263   104.986307  -841.016659\n",
       "..        ...            ...           ...          ...          ...\n",
       "213  103080.0  119433.722676 -13488.006561 -4840.338623  1974.622508\n",
       "214   95155.0  119403.419736 -27159.429895  -928.487998  3839.498158\n",
       "215   80285.0  119373.145455 -39617.228552  -929.451981  1458.535078\n",
       "\n",
       "[216 rows x 5 columns]"
      ]
     },
     "execution_count": null,
     "metadata": {},
     "output_type": "execute_result"
    }
   ],
   "source": [
    "result=sf.fitted_[0,0].model_\n",
    "result"
   ]
  },
  {
   "cell_type": "code",
   "execution_count": null,
   "metadata": {},
   "outputs": [
    {
     "data": {
      "image/png": "[encoded data removed]",
      "text/plain": [
       "<Figure size 1800x700 with 5 Axes>"
      ]
     },
     "metadata": {},
     "output_type": "display_data"
    }
   ],
   "source": [
    "sf.fitted_[0, 0].model_.tail(24 * 28).plot(subplots=True, grid=True)\n",
    "plt.tight_layout()\n",
    "plt.show()"
   ]
  },
  {
   "cell_type": "markdown",
   "metadata": {},
   "source": [
    "### Forecast Method\n",
    "\n",
    "If you want to gain speed in productive settings where you have multiple series or models we recommend using the `StatsForecast.forecast` method instead of `.fit` and `.predict`.\n",
    "\n",
    "The main difference is that the `.forecast` doest not store the fitted values and is highly scalable in distributed environments.\n",
    "\n",
    "The forecast method takes two arguments: forecasts next `h` (horizon) and `level`.\n",
    "\n",
    "* `h (int):` represents the forecast h steps into the future. In this case, 30 hours ahead.\n",
    "\n",
    "* `level (list of floats):` this optional parameter is used for probabilistic forecasting. Set the level (or confidence percentile) of your prediction interval. For example, `level=[90]` means that the model expects the real value to be inside that interval 90% of the times.\n",
    "\n",
    "The forecast object here is a new data frame that includes a column with the name of the model and the y hat values, as well as columns for the uncertainty intervals. Depending on your computer, this step should take around 1min. (If you want to speed things up to a couple of seconds, remove the AutoModels like `ARIMA` and `Theta`)"
   ]
  },
  {
   "cell_type": "code",
   "execution_count": null,
   "metadata": {},
   "outputs": [
    {
     "data": {
      "text/html": [
       "<div>\n",
       "<style scoped>\n",
       "    .dataframe tbody tr th:only-of-type {\n",
       "        vertical-align: middle;\n",
       "    }\n",
       "\n",
       "    .dataframe tbody tr th {\n",
       "        vertical-align: top;\n",
       "    }\n",
       "\n",
       "    .dataframe thead th {\n",
       "        text-align: right;\n",
       "    }\n",
       "</style>\n",
       "<table border=\"1\" class=\"dataframe\">\n",
       "  <thead>\n",
       "    <tr style=\"text-align: right;\">\n",
       "      <th></th>\n",
       "      <th>ds</th>\n",
       "      <th>MSTL</th>\n",
       "    </tr>\n",
       "    <tr>\n",
       "      <th>unique_id</th>\n",
       "      <th></th>\n",
       "      <th></th>\n",
       "    </tr>\n",
       "  </thead>\n",
       "  <tbody>\n",
       "    <tr>\n",
       "      <th>1</th>\n",
       "      <td>2017-09-22 00:00:00</td>\n",
       "      <td>73093.007812</td>\n",
       "    </tr>\n",
       "    <tr>\n",
       "      <th>1</th>\n",
       "      <td>2017-09-22 01:00:00</td>\n",
       "      <td>73268.078125</td>\n",
       "    </tr>\n",
       "    <tr>\n",
       "      <th>1</th>\n",
       "      <td>2017-09-22 02:00:00</td>\n",
       "      <td>80297.703125</td>\n",
       "    </tr>\n",
       "    <tr>\n",
       "      <th>...</th>\n",
       "      <td>...</td>\n",
       "      <td>...</td>\n",
       "    </tr>\n",
       "    <tr>\n",
       "      <th>1</th>\n",
       "      <td>2017-09-23 03:00:00</td>\n",
       "      <td>102918.906250</td>\n",
       "    </tr>\n",
       "    <tr>\n",
       "      <th>1</th>\n",
       "      <td>2017-09-23 04:00:00</td>\n",
       "      <td>115512.109375</td>\n",
       "    </tr>\n",
       "    <tr>\n",
       "      <th>1</th>\n",
       "      <td>2017-09-23 05:00:00</td>\n",
       "      <td>127950.929688</td>\n",
       "    </tr>\n",
       "  </tbody>\n",
       "</table>\n",
       "<p>30 rows × 2 columns</p>\n",
       "</div>"
      ],
      "text/plain": [
       "                           ds           MSTL\n",
       "unique_id                                   \n",
       "1         2017-09-22 00:00:00   73093.007812\n",
       "1         2017-09-22 01:00:00   73268.078125\n",
       "1         2017-09-22 02:00:00   80297.703125\n",
       "...                       ...            ...\n",
       "1         2017-09-23 03:00:00  102918.906250\n",
       "1         2017-09-23 04:00:00  115512.109375\n",
       "1         2017-09-23 05:00:00  127950.929688\n",
       "\n",
       "[30 rows x 2 columns]"
      ]
     },
     "execution_count": null,
     "metadata": {},
     "output_type": "execute_result"
    }
   ],
   "source": [
    "Y_hat = sf.forecast(horizon, fitted=True)\n",
    "Y_hat"
   ]
  },
  {
   "cell_type": "code",
   "execution_count": null,
   "metadata": {},
   "outputs": [
    {
     "data": {
      "text/html": [
       "<div>\n",
       "<style scoped>\n",
       "    .dataframe tbody tr th:only-of-type {\n",
       "        vertical-align: middle;\n",
       "    }\n",
       "\n",
       "    .dataframe tbody tr th {\n",
       "        vertical-align: top;\n",
       "    }\n",
       "\n",
       "    .dataframe thead th {\n",
       "        text-align: right;\n",
       "    }\n",
       "</style>\n",
       "<table border=\"1\" class=\"dataframe\">\n",
       "  <thead>\n",
       "    <tr style=\"text-align: right;\">\n",
       "      <th></th>\n",
       "      <th>ds</th>\n",
       "      <th>y</th>\n",
       "      <th>MSTL</th>\n",
       "    </tr>\n",
       "    <tr>\n",
       "      <th>unique_id</th>\n",
       "      <th></th>\n",
       "      <th></th>\n",
       "      <th></th>\n",
       "    </tr>\n",
       "  </thead>\n",
       "  <tbody>\n",
       "    <tr>\n",
       "      <th>1</th>\n",
       "      <td>2017-09-13 00:00:00</td>\n",
       "      <td>80115.0</td>\n",
       "      <td>79990.984375</td>\n",
       "    </tr>\n",
       "    <tr>\n",
       "      <th>1</th>\n",
       "      <td>2017-09-13 01:00:00</td>\n",
       "      <td>79885.0</td>\n",
       "      <td>78820.171875</td>\n",
       "    </tr>\n",
       "    <tr>\n",
       "      <th>1</th>\n",
       "      <td>2017-09-13 02:00:00</td>\n",
       "      <td>89325.0</td>\n",
       "      <td>88571.578125</td>\n",
       "    </tr>\n",
       "    <tr>\n",
       "      <th>1</th>\n",
       "      <td>2017-09-13 03:00:00</td>\n",
       "      <td>101930.0</td>\n",
       "      <td>102300.695312</td>\n",
       "    </tr>\n",
       "    <tr>\n",
       "      <th>1</th>\n",
       "      <td>2017-09-13 04:00:00</td>\n",
       "      <td>121630.0</td>\n",
       "      <td>122994.265625</td>\n",
       "    </tr>\n",
       "  </tbody>\n",
       "</table>\n",
       "</div>"
      ],
      "text/plain": [
       "                           ds         y           MSTL\n",
       "unique_id                                             \n",
       "1         2017-09-13 00:00:00   80115.0   79990.984375\n",
       "1         2017-09-13 01:00:00   79885.0   78820.171875\n",
       "1         2017-09-13 02:00:00   89325.0   88571.578125\n",
       "1         2017-09-13 03:00:00  101930.0  102300.695312\n",
       "1         2017-09-13 04:00:00  121630.0  122994.265625"
      ]
     },
     "execution_count": null,
     "metadata": {},
     "output_type": "execute_result"
    }
   ],
   "source": [
    "values=sf.forecast_fitted_values()\n",
    "values.head()"
   ]
  },
  {
   "cell_type": "code",
   "execution_count": null,
   "metadata": {},
   "outputs": [
    {
     "data": {
      "image/png": "[encoded data removed]",
      "text/plain": [
       "<Figure size 1600x350 with 1 Axes>"
      ]
     },
     "execution_count": null,
     "metadata": {},
     "output_type": "execute_result"
    }
   ],
   "source": [
    "StatsForecast.plot(values)"
   ]
  },
  {
   "cell_type": "markdown",
   "metadata": {},
   "source": [
    "Adding 95% confidence interval with the forecast method"
   ]
  },
  {
   "cell_type": "code",
   "execution_count": null,
   "metadata": {},
   "outputs": [
    {
     "data": {
      "text/html": [
       "<div>\n",
       "<style scoped>\n",
       "    .dataframe tbody tr th:only-of-type {\n",
       "        vertical-align: middle;\n",
       "    }\n",
       "\n",
       "    .dataframe tbody tr th {\n",
       "        vertical-align: top;\n",
       "    }\n",
       "\n",
       "    .dataframe thead th {\n",
       "        text-align: right;\n",
       "    }\n",
       "</style>\n",
       "<table border=\"1\" class=\"dataframe\">\n",
       "  <thead>\n",
       "    <tr style=\"text-align: right;\">\n",
       "      <th></th>\n",
       "      <th>ds</th>\n",
       "      <th>MSTL</th>\n",
       "      <th>MSTL-lo-95</th>\n",
       "      <th>MSTL-hi-95</th>\n",
       "    </tr>\n",
       "    <tr>\n",
       "      <th>unique_id</th>\n",
       "      <th></th>\n",
       "      <th></th>\n",
       "      <th></th>\n",
       "      <th></th>\n",
       "    </tr>\n",
       "  </thead>\n",
       "  <tbody>\n",
       "    <tr>\n",
       "      <th>1</th>\n",
       "      <td>2017-09-22 00:00:00</td>\n",
       "      <td>73093.007812</td>\n",
       "      <td>69844.109375</td>\n",
       "      <td>76341.914062</td>\n",
       "    </tr>\n",
       "    <tr>\n",
       "      <th>1</th>\n",
       "      <td>2017-09-22 01:00:00</td>\n",
       "      <td>73268.078125</td>\n",
       "      <td>67407.664062</td>\n",
       "      <td>79128.492188</td>\n",
       "    </tr>\n",
       "    <tr>\n",
       "      <th>1</th>\n",
       "      <td>2017-09-22 02:00:00</td>\n",
       "      <td>80297.703125</td>\n",
       "      <td>78214.578125</td>\n",
       "      <td>82380.820312</td>\n",
       "    </tr>\n",
       "    <tr>\n",
       "      <th>...</th>\n",
       "      <td>...</td>\n",
       "      <td>...</td>\n",
       "      <td>...</td>\n",
       "      <td>...</td>\n",
       "    </tr>\n",
       "    <tr>\n",
       "      <th>1</th>\n",
       "      <td>2017-09-23 03:00:00</td>\n",
       "      <td>102918.906250</td>\n",
       "      <td>100072.039062</td>\n",
       "      <td>105765.781250</td>\n",
       "    </tr>\n",
       "    <tr>\n",
       "      <th>1</th>\n",
       "      <td>2017-09-23 04:00:00</td>\n",
       "      <td>115512.109375</td>\n",
       "      <td>111221.421875</td>\n",
       "      <td>119802.789062</td>\n",
       "    </tr>\n",
       "    <tr>\n",
       "      <th>1</th>\n",
       "      <td>2017-09-23 05:00:00</td>\n",
       "      <td>127950.929688</td>\n",
       "      <td>124300.039062</td>\n",
       "      <td>131601.828125</td>\n",
       "    </tr>\n",
       "  </tbody>\n",
       "</table>\n",
       "<p>30 rows × 4 columns</p>\n",
       "</div>"
      ],
      "text/plain": [
       "                           ds           MSTL     MSTL-lo-95     MSTL-hi-95\n",
       "unique_id                                                                 \n",
       "1         2017-09-22 00:00:00   73093.007812   69844.109375   76341.914062\n",
       "1         2017-09-22 01:00:00   73268.078125   67407.664062   79128.492188\n",
       "1         2017-09-22 02:00:00   80297.703125   78214.578125   82380.820312\n",
       "...                       ...            ...            ...            ...\n",
       "1         2017-09-23 03:00:00  102918.906250  100072.039062  105765.781250\n",
       "1         2017-09-23 04:00:00  115512.109375  111221.421875  119802.789062\n",
       "1         2017-09-23 05:00:00  127950.929688  124300.039062  131601.828125\n",
       "\n",
       "[30 rows x 4 columns]"
      ]
     },
     "execution_count": null,
     "metadata": {},
     "output_type": "execute_result"
    }
   ],
   "source": [
    "sf.forecast(h=horizon, level=[95])"
   ]
  },
  {
   "cell_type": "code",
   "execution_count": null,
   "metadata": {},
   "outputs": [
    {
     "data": {
      "text/html": [
       "<div>\n",
       "<style scoped>\n",
       "    .dataframe tbody tr th:only-of-type {\n",
       "        vertical-align: middle;\n",
       "    }\n",
       "\n",
       "    .dataframe tbody tr th {\n",
       "        vertical-align: top;\n",
       "    }\n",
       "\n",
       "    .dataframe thead th {\n",
       "        text-align: right;\n",
       "    }\n",
       "</style>\n",
       "<table border=\"1\" class=\"dataframe\">\n",
       "  <thead>\n",
       "    <tr style=\"text-align: right;\">\n",
       "      <th></th>\n",
       "      <th>unique_id</th>\n",
       "      <th>ds</th>\n",
       "      <th>MSTL</th>\n",
       "    </tr>\n",
       "  </thead>\n",
       "  <tbody>\n",
       "    <tr>\n",
       "      <th>0</th>\n",
       "      <td>1</td>\n",
       "      <td>2017-09-22 00:00:00</td>\n",
       "      <td>73093.007812</td>\n",
       "    </tr>\n",
       "    <tr>\n",
       "      <th>1</th>\n",
       "      <td>1</td>\n",
       "      <td>2017-09-22 01:00:00</td>\n",
       "      <td>73268.078125</td>\n",
       "    </tr>\n",
       "    <tr>\n",
       "      <th>2</th>\n",
       "      <td>1</td>\n",
       "      <td>2017-09-22 02:00:00</td>\n",
       "      <td>80297.703125</td>\n",
       "    </tr>\n",
       "    <tr>\n",
       "      <th>...</th>\n",
       "      <td>...</td>\n",
       "      <td>...</td>\n",
       "      <td>...</td>\n",
       "    </tr>\n",
       "    <tr>\n",
       "      <th>27</th>\n",
       "      <td>1</td>\n",
       "      <td>2017-09-23 03:00:00</td>\n",
       "      <td>102918.906250</td>\n",
       "    </tr>\n",
       "    <tr>\n",
       "      <th>28</th>\n",
       "      <td>1</td>\n",
       "      <td>2017-09-23 04:00:00</td>\n",
       "      <td>115512.109375</td>\n",
       "    </tr>\n",
       "    <tr>\n",
       "      <th>29</th>\n",
       "      <td>1</td>\n",
       "      <td>2017-09-23 05:00:00</td>\n",
       "      <td>127950.929688</td>\n",
       "    </tr>\n",
       "  </tbody>\n",
       "</table>\n",
       "<p>30 rows × 3 columns</p>\n",
       "</div>"
      ],
      "text/plain": [
       "   unique_id                  ds           MSTL\n",
       "0          1 2017-09-22 00:00:00   73093.007812\n",
       "1          1 2017-09-22 01:00:00   73268.078125\n",
       "2          1 2017-09-22 02:00:00   80297.703125\n",
       "..       ...                 ...            ...\n",
       "27         1 2017-09-23 03:00:00  102918.906250\n",
       "28         1 2017-09-23 04:00:00  115512.109375\n",
       "29         1 2017-09-23 05:00:00  127950.929688\n",
       "\n",
       "[30 rows x 3 columns]"
      ]
     },
     "execution_count": null,
     "metadata": {},
     "output_type": "execute_result"
    }
   ],
   "source": [
    "Y_hat=Y_hat.reset_index()\n",
    "Y_hat"
   ]
  },
  {
   "cell_type": "code",
   "execution_count": null,
   "metadata": {},
   "outputs": [
    {
     "data": {
      "text/html": [
       "<div>\n",
       "<style scoped>\n",
       "    .dataframe tbody tr th:only-of-type {\n",
       "        vertical-align: middle;\n",
       "    }\n",
       "\n",
       "    .dataframe tbody tr th {\n",
       "        vertical-align: top;\n",
       "    }\n",
       "\n",
       "    .dataframe thead th {\n",
       "        text-align: right;\n",
       "    }\n",
       "</style>\n",
       "<table border=\"1\" class=\"dataframe\">\n",
       "  <thead>\n",
       "    <tr style=\"text-align: right;\">\n",
       "      <th></th>\n",
       "      <th></th>\n",
       "      <th>ds</th>\n",
       "      <th>y</th>\n",
       "      <th>unique_id</th>\n",
       "      <th>MSTL</th>\n",
       "    </tr>\n",
       "  </thead>\n",
       "  <tbody>\n",
       "    <tr>\n",
       "      <th rowspan=\"3\" valign=\"top\">unique_id</th>\n",
       "      <th>0</th>\n",
       "      <td>2017-09-13 00:00:00</td>\n",
       "      <td>80115.0</td>\n",
       "      <td>1</td>\n",
       "      <td>NaN</td>\n",
       "    </tr>\n",
       "    <tr>\n",
       "      <th>1</th>\n",
       "      <td>2017-09-13 01:00:00</td>\n",
       "      <td>79885.0</td>\n",
       "      <td>1</td>\n",
       "      <td>NaN</td>\n",
       "    </tr>\n",
       "    <tr>\n",
       "      <th>2</th>\n",
       "      <td>2017-09-13 02:00:00</td>\n",
       "      <td>89325.0</td>\n",
       "      <td>1</td>\n",
       "      <td>NaN</td>\n",
       "    </tr>\n",
       "    <tr>\n",
       "      <th>...</th>\n",
       "      <th>...</th>\n",
       "      <td>...</td>\n",
       "      <td>...</td>\n",
       "      <td>...</td>\n",
       "      <td>...</td>\n",
       "    </tr>\n",
       "    <tr>\n",
       "      <th rowspan=\"3\" valign=\"top\">ds</th>\n",
       "      <th>27</th>\n",
       "      <td>2017-09-23 03:00:00</td>\n",
       "      <td>NaN</td>\n",
       "      <td>1</td>\n",
       "      <td>102918.906250</td>\n",
       "    </tr>\n",
       "    <tr>\n",
       "      <th>28</th>\n",
       "      <td>2017-09-23 04:00:00</td>\n",
       "      <td>NaN</td>\n",
       "      <td>1</td>\n",
       "      <td>115512.109375</td>\n",
       "    </tr>\n",
       "    <tr>\n",
       "      <th>29</th>\n",
       "      <td>2017-09-23 05:00:00</td>\n",
       "      <td>NaN</td>\n",
       "      <td>1</td>\n",
       "      <td>127950.929688</td>\n",
       "    </tr>\n",
       "  </tbody>\n",
       "</table>\n",
       "<p>246 rows × 4 columns</p>\n",
       "</div>"
      ],
      "text/plain": [
       "                              ds        y unique_id           MSTL\n",
       "unique_id 0  2017-09-13 00:00:00  80115.0         1            NaN\n",
       "          1  2017-09-13 01:00:00  79885.0         1            NaN\n",
       "          2  2017-09-13 02:00:00  89325.0         1            NaN\n",
       "...                          ...      ...       ...            ...\n",
       "ds        27 2017-09-23 03:00:00      NaN         1  102918.906250\n",
       "          28 2017-09-23 04:00:00      NaN         1  115512.109375\n",
       "          29 2017-09-23 05:00:00      NaN         1  127950.929688\n",
       "\n",
       "[246 rows x 4 columns]"
      ]
     },
     "execution_count": null,
     "metadata": {},
     "output_type": "execute_result"
    }
   ],
   "source": [
    "# Concat the forecasts with the true values\n",
    "Y_hat1 = pd.concat([df,Y_hat],  keys=['unique_id', 'ds'])\n",
    "Y_hat1"
   ]
  },
  {
   "cell_type": "code",
   "execution_count": null,
   "metadata": {},
   "outputs": [
    {
     "data": {
      "image/png": "[encoded data removed]",
      "text/plain": [
       "<Figure size 1800x700 with 1 Axes>"
      ]
     },
     "metadata": {},
     "output_type": "display_data"
    }
   ],
   "source": [
    "fig, ax = plt.subplots(1, 1)\n",
    "plot_df = pd.concat([df, Y_hat1]).set_index('ds')\n",
    "plot_df['y'].plot(ax=ax, linewidth=2)\n",
    "plot_df[\"MSTL\"].plot(ax=ax, linewidth=2, color=\"yellow\")\n",
    "ax.set_title(' Forecast', fontsize=22)\n",
    "ax.set_ylabel('Ads watched (hourly data)', fontsize=20)\n",
    "ax.set_xlabel('Monthly [t]', fontsize=20)\n",
    "ax.legend(prop={'size': 15})\n",
    "ax.grid(True)"
   ]
  },
  {
   "cell_type": "markdown",
   "metadata": {},
   "source": [
    "### Predict method with confidence interval\n",
    "\n",
    "To generate forecasts use the predict method.\n",
    "\n",
    "The predict method takes two arguments: forecasts the next `h` (for horizon) and `level`.\n",
    "\n",
    "* `h (int):` represents the forecast h steps into the future. In this case, 30 hours ahead.\n",
    "\n",
    "* `level (list of floats):` this optional parameter is used for probabilistic forecasting. Set the level (or confidence percentile) of your prediction interval. For example, `level=[95]` means that the model expects the real value to be inside that interval 95% of the times.\n",
    "\n",
    "The forecast object here is a new data frame that includes a column with the name of the model and the y hat values, as well as columns for the uncertainty intervals.\n",
    "\n",
    "This step should take less than 1 second."
   ]
  },
  {
   "cell_type": "code",
   "execution_count": null,
   "metadata": {},
   "outputs": [
    {
     "data": {
      "text/html": [
       "<div>\n",
       "<style scoped>\n",
       "    .dataframe tbody tr th:only-of-type {\n",
       "        vertical-align: middle;\n",
       "    }\n",
       "\n",
       "    .dataframe tbody tr th {\n",
       "        vertical-align: top;\n",
       "    }\n",
       "\n",
       "    .dataframe thead th {\n",
       "        text-align: right;\n",
       "    }\n",
       "</style>\n",
       "<table border=\"1\" class=\"dataframe\">\n",
       "  <thead>\n",
       "    <tr style=\"text-align: right;\">\n",
       "      <th></th>\n",
       "      <th>ds</th>\n",
       "      <th>MSTL</th>\n",
       "    </tr>\n",
       "    <tr>\n",
       "      <th>unique_id</th>\n",
       "      <th></th>\n",
       "      <th></th>\n",
       "    </tr>\n",
       "  </thead>\n",
       "  <tbody>\n",
       "    <tr>\n",
       "      <th>1</th>\n",
       "      <td>2017-09-22 00:00:00</td>\n",
       "      <td>73093.007812</td>\n",
       "    </tr>\n",
       "    <tr>\n",
       "      <th>1</th>\n",
       "      <td>2017-09-22 01:00:00</td>\n",
       "      <td>73268.078125</td>\n",
       "    </tr>\n",
       "    <tr>\n",
       "      <th>1</th>\n",
       "      <td>2017-09-22 02:00:00</td>\n",
       "      <td>80297.703125</td>\n",
       "    </tr>\n",
       "    <tr>\n",
       "      <th>...</th>\n",
       "      <td>...</td>\n",
       "      <td>...</td>\n",
       "    </tr>\n",
       "    <tr>\n",
       "      <th>1</th>\n",
       "      <td>2017-09-23 03:00:00</td>\n",
       "      <td>102918.906250</td>\n",
       "    </tr>\n",
       "    <tr>\n",
       "      <th>1</th>\n",
       "      <td>2017-09-23 04:00:00</td>\n",
       "      <td>115512.109375</td>\n",
       "    </tr>\n",
       "    <tr>\n",
       "      <th>1</th>\n",
       "      <td>2017-09-23 05:00:00</td>\n",
       "      <td>127950.929688</td>\n",
       "    </tr>\n",
       "  </tbody>\n",
       "</table>\n",
       "<p>30 rows × 2 columns</p>\n",
       "</div>"
      ],
      "text/plain": [
       "                           ds           MSTL\n",
       "unique_id                                   \n",
       "1         2017-09-22 00:00:00   73093.007812\n",
       "1         2017-09-22 01:00:00   73268.078125\n",
       "1         2017-09-22 02:00:00   80297.703125\n",
       "...                       ...            ...\n",
       "1         2017-09-23 03:00:00  102918.906250\n",
       "1         2017-09-23 04:00:00  115512.109375\n",
       "1         2017-09-23 05:00:00  127950.929688\n",
       "\n",
       "[30 rows x 2 columns]"
      ]
     },
     "execution_count": null,
     "metadata": {},
     "output_type": "execute_result"
    }
   ],
   "source": [
    "sf.predict(h=horizon)"
   ]
  },
  {
   "cell_type": "code",
   "execution_count": null,
   "metadata": {},
   "outputs": [
    {
     "data": {
      "text/html": [
       "<div>\n",
       "<style scoped>\n",
       "    .dataframe tbody tr th:only-of-type {\n",
       "        vertical-align: middle;\n",
       "    }\n",
       "\n",
       "    .dataframe tbody tr th {\n",
       "        vertical-align: top;\n",
       "    }\n",
       "\n",
       "    .dataframe thead th {\n",
       "        text-align: right;\n",
       "    }\n",
       "</style>\n",
       "<table border=\"1\" class=\"dataframe\">\n",
       "  <thead>\n",
       "    <tr style=\"text-align: right;\">\n",
       "      <th></th>\n",
       "      <th>ds</th>\n",
       "      <th>MSTL</th>\n",
       "      <th>MSTL-lo-95</th>\n",
       "      <th>MSTL-lo-80</th>\n",
       "      <th>MSTL-hi-80</th>\n",
       "      <th>MSTL-hi-95</th>\n",
       "    </tr>\n",
       "    <tr>\n",
       "      <th>unique_id</th>\n",
       "      <th></th>\n",
       "      <th></th>\n",
       "      <th></th>\n",
       "      <th></th>\n",
       "      <th></th>\n",
       "      <th></th>\n",
       "    </tr>\n",
       "  </thead>\n",
       "  <tbody>\n",
       "    <tr>\n",
       "      <th>1</th>\n",
       "      <td>2017-09-22 00:00:00</td>\n",
       "      <td>73093.007812</td>\n",
       "      <td>69844.109375</td>\n",
       "      <td>71204.914062</td>\n",
       "      <td>74981.101562</td>\n",
       "      <td>76341.914062</td>\n",
       "    </tr>\n",
       "    <tr>\n",
       "      <th>1</th>\n",
       "      <td>2017-09-22 01:00:00</td>\n",
       "      <td>73268.078125</td>\n",
       "      <td>67407.664062</td>\n",
       "      <td>69866.078125</td>\n",
       "      <td>76670.070312</td>\n",
       "      <td>79128.492188</td>\n",
       "    </tr>\n",
       "    <tr>\n",
       "      <th>1</th>\n",
       "      <td>2017-09-22 02:00:00</td>\n",
       "      <td>80297.703125</td>\n",
       "      <td>78214.578125</td>\n",
       "      <td>79040.671875</td>\n",
       "      <td>81554.726562</td>\n",
       "      <td>82380.820312</td>\n",
       "    </tr>\n",
       "    <tr>\n",
       "      <th>...</th>\n",
       "      <td>...</td>\n",
       "      <td>...</td>\n",
       "      <td>...</td>\n",
       "      <td>...</td>\n",
       "      <td>...</td>\n",
       "      <td>...</td>\n",
       "    </tr>\n",
       "    <tr>\n",
       "      <th>1</th>\n",
       "      <td>2017-09-23 03:00:00</td>\n",
       "      <td>102918.906250</td>\n",
       "      <td>100072.039062</td>\n",
       "      <td>100317.101562</td>\n",
       "      <td>105520.718750</td>\n",
       "      <td>105765.781250</td>\n",
       "    </tr>\n",
       "    <tr>\n",
       "      <th>1</th>\n",
       "      <td>2017-09-23 04:00:00</td>\n",
       "      <td>115512.109375</td>\n",
       "      <td>111221.421875</td>\n",
       "      <td>112638.765625</td>\n",
       "      <td>118385.445312</td>\n",
       "      <td>119802.789062</td>\n",
       "    </tr>\n",
       "    <tr>\n",
       "      <th>1</th>\n",
       "      <td>2017-09-23 05:00:00</td>\n",
       "      <td>127950.929688</td>\n",
       "      <td>124300.039062</td>\n",
       "      <td>124856.750000</td>\n",
       "      <td>131045.117188</td>\n",
       "      <td>131601.828125</td>\n",
       "    </tr>\n",
       "  </tbody>\n",
       "</table>\n",
       "<p>30 rows × 6 columns</p>\n",
       "</div>"
      ],
      "text/plain": [
       "                           ds           MSTL     MSTL-lo-95     MSTL-lo-80  \\\n",
       "unique_id                                                                    \n",
       "1         2017-09-22 00:00:00   73093.007812   69844.109375   71204.914062   \n",
       "1         2017-09-22 01:00:00   73268.078125   67407.664062   69866.078125   \n",
       "1         2017-09-22 02:00:00   80297.703125   78214.578125   79040.671875   \n",
       "...                       ...            ...            ...            ...   \n",
       "1         2017-09-23 03:00:00  102918.906250  100072.039062  100317.101562   \n",
       "1         2017-09-23 04:00:00  115512.109375  111221.421875  112638.765625   \n",
       "1         2017-09-23 05:00:00  127950.929688  124300.039062  124856.750000   \n",
       "\n",
       "              MSTL-hi-80     MSTL-hi-95  \n",
       "unique_id                                \n",
       "1           74981.101562   76341.914062  \n",
       "1           76670.070312   79128.492188  \n",
       "1           81554.726562   82380.820312  \n",
       "...                  ...            ...  \n",
       "1          105520.718750  105765.781250  \n",
       "1          118385.445312  119802.789062  \n",
       "1          131045.117188  131601.828125  \n",
       "\n",
       "[30 rows x 6 columns]"
      ]
     },
     "execution_count": null,
     "metadata": {},
     "output_type": "execute_result"
    }
   ],
   "source": [
    "forecast_df = sf.predict(h=horizon, level=[80,95]) \n",
    "forecast_df"
   ]
  },
  {
   "cell_type": "markdown",
   "metadata": {},
   "source": [
    "We can join the forecast result with the historical data using the pandas function `pd.concat()`, and then be able to use this result for graphing."
   ]
  },
  {
   "cell_type": "code",
   "execution_count": null,
   "metadata": {},
   "outputs": [
    {
     "data": {
      "text/html": [
       "<div>\n",
       "<style scoped>\n",
       "    .dataframe tbody tr th:only-of-type {\n",
       "        vertical-align: middle;\n",
       "    }\n",
       "\n",
       "    .dataframe tbody tr th {\n",
       "        vertical-align: top;\n",
       "    }\n",
       "\n",
       "    .dataframe thead th {\n",
       "        text-align: right;\n",
       "    }\n",
       "</style>\n",
       "<table border=\"1\" class=\"dataframe\">\n",
       "  <thead>\n",
       "    <tr style=\"text-align: right;\">\n",
       "      <th></th>\n",
       "      <th>y</th>\n",
       "      <th>unique_id</th>\n",
       "      <th>MSTL</th>\n",
       "      <th>MSTL-lo-95</th>\n",
       "      <th>MSTL-lo-80</th>\n",
       "      <th>MSTL-hi-80</th>\n",
       "      <th>MSTL-hi-95</th>\n",
       "    </tr>\n",
       "    <tr>\n",
       "      <th>ds</th>\n",
       "      <th></th>\n",
       "      <th></th>\n",
       "      <th></th>\n",
       "      <th></th>\n",
       "      <th></th>\n",
       "      <th></th>\n",
       "      <th></th>\n",
       "    </tr>\n",
       "  </thead>\n",
       "  <tbody>\n",
       "    <tr>\n",
       "      <th>2017-09-13 00:00:00</th>\n",
       "      <td>80115.0</td>\n",
       "      <td>1</td>\n",
       "      <td>NaN</td>\n",
       "      <td>NaN</td>\n",
       "      <td>NaN</td>\n",
       "      <td>NaN</td>\n",
       "      <td>NaN</td>\n",
       "    </tr>\n",
       "    <tr>\n",
       "      <th>2017-09-13 01:00:00</th>\n",
       "      <td>79885.0</td>\n",
       "      <td>1</td>\n",
       "      <td>NaN</td>\n",
       "      <td>NaN</td>\n",
       "      <td>NaN</td>\n",
       "      <td>NaN</td>\n",
       "      <td>NaN</td>\n",
       "    </tr>\n",
       "    <tr>\n",
       "      <th>2017-09-13 02:00:00</th>\n",
       "      <td>89325.0</td>\n",
       "      <td>1</td>\n",
       "      <td>NaN</td>\n",
       "      <td>NaN</td>\n",
       "      <td>NaN</td>\n",
       "      <td>NaN</td>\n",
       "      <td>NaN</td>\n",
       "    </tr>\n",
       "    <tr>\n",
       "      <th>...</th>\n",
       "      <td>...</td>\n",
       "      <td>...</td>\n",
       "      <td>...</td>\n",
       "      <td>...</td>\n",
       "      <td>...</td>\n",
       "      <td>...</td>\n",
       "      <td>...</td>\n",
       "    </tr>\n",
       "    <tr>\n",
       "      <th>2017-09-23 03:00:00</th>\n",
       "      <td>NaN</td>\n",
       "      <td>NaN</td>\n",
       "      <td>102918.906250</td>\n",
       "      <td>100072.039062</td>\n",
       "      <td>100317.101562</td>\n",
       "      <td>105520.718750</td>\n",
       "      <td>105765.781250</td>\n",
       "    </tr>\n",
       "    <tr>\n",
       "      <th>2017-09-23 04:00:00</th>\n",
       "      <td>NaN</td>\n",
       "      <td>NaN</td>\n",
       "      <td>115512.109375</td>\n",
       "      <td>111221.421875</td>\n",
       "      <td>112638.765625</td>\n",
       "      <td>118385.445312</td>\n",
       "      <td>119802.789062</td>\n",
       "    </tr>\n",
       "    <tr>\n",
       "      <th>2017-09-23 05:00:00</th>\n",
       "      <td>NaN</td>\n",
       "      <td>NaN</td>\n",
       "      <td>127950.929688</td>\n",
       "      <td>124300.039062</td>\n",
       "      <td>124856.750000</td>\n",
       "      <td>131045.117188</td>\n",
       "      <td>131601.828125</td>\n",
       "    </tr>\n",
       "  </tbody>\n",
       "</table>\n",
       "<p>246 rows × 7 columns</p>\n",
       "</div>"
      ],
      "text/plain": [
       "                           y unique_id           MSTL     MSTL-lo-95  \\\n",
       "ds                                                                     \n",
       "2017-09-13 00:00:00  80115.0         1            NaN            NaN   \n",
       "2017-09-13 01:00:00  79885.0         1            NaN            NaN   \n",
       "2017-09-13 02:00:00  89325.0         1            NaN            NaN   \n",
       "...                      ...       ...            ...            ...   \n",
       "2017-09-23 03:00:00      NaN       NaN  102918.906250  100072.039062   \n",
       "2017-09-23 04:00:00      NaN       NaN  115512.109375  111221.421875   \n",
       "2017-09-23 05:00:00      NaN       NaN  127950.929688  124300.039062   \n",
       "\n",
       "                        MSTL-lo-80     MSTL-hi-80     MSTL-hi-95  \n",
       "ds                                                                \n",
       "2017-09-13 00:00:00            NaN            NaN            NaN  \n",
       "2017-09-13 01:00:00            NaN            NaN            NaN  \n",
       "2017-09-13 02:00:00            NaN            NaN            NaN  \n",
       "...                            ...            ...            ...  \n",
       "2017-09-23 03:00:00  100317.101562  105520.718750  105765.781250  \n",
       "2017-09-23 04:00:00  112638.765625  118385.445312  119802.789062  \n",
       "2017-09-23 05:00:00  124856.750000  131045.117188  131601.828125  \n",
       "\n",
       "[246 rows x 7 columns]"
      ]
     },
     "execution_count": null,
     "metadata": {},
     "output_type": "execute_result"
    }
   ],
   "source": [
    "pd.concat([df, forecast_df]).set_index('ds')"
   ]
  },
  {
   "cell_type": "code",
   "execution_count": null,
   "metadata": {},
   "outputs": [
    {
     "data": {
      "text/html": [
       "<div>\n",
       "<style scoped>\n",
       "    .dataframe tbody tr th:only-of-type {\n",
       "        vertical-align: middle;\n",
       "    }\n",
       "\n",
       "    .dataframe tbody tr th {\n",
       "        vertical-align: top;\n",
       "    }\n",
       "\n",
       "    .dataframe thead th {\n",
       "        text-align: right;\n",
       "    }\n",
       "</style>\n",
       "<table border=\"1\" class=\"dataframe\">\n",
       "  <thead>\n",
       "    <tr style=\"text-align: right;\">\n",
       "      <th></th>\n",
       "      <th>y</th>\n",
       "      <th>unique_id</th>\n",
       "      <th>MSTL</th>\n",
       "      <th>MSTL-lo-95</th>\n",
       "      <th>MSTL-lo-80</th>\n",
       "      <th>MSTL-hi-80</th>\n",
       "      <th>MSTL-hi-95</th>\n",
       "    </tr>\n",
       "    <tr>\n",
       "      <th>ds</th>\n",
       "      <th></th>\n",
       "      <th></th>\n",
       "      <th></th>\n",
       "      <th></th>\n",
       "      <th></th>\n",
       "      <th></th>\n",
       "      <th></th>\n",
       "    </tr>\n",
       "  </thead>\n",
       "  <tbody>\n",
       "    <tr>\n",
       "      <th>2017-09-13 00:00:00</th>\n",
       "      <td>80115.0</td>\n",
       "      <td>1</td>\n",
       "      <td>NaN</td>\n",
       "      <td>NaN</td>\n",
       "      <td>NaN</td>\n",
       "      <td>NaN</td>\n",
       "      <td>NaN</td>\n",
       "    </tr>\n",
       "    <tr>\n",
       "      <th>2017-09-13 01:00:00</th>\n",
       "      <td>79885.0</td>\n",
       "      <td>1</td>\n",
       "      <td>NaN</td>\n",
       "      <td>NaN</td>\n",
       "      <td>NaN</td>\n",
       "      <td>NaN</td>\n",
       "      <td>NaN</td>\n",
       "    </tr>\n",
       "    <tr>\n",
       "      <th>2017-09-13 02:00:00</th>\n",
       "      <td>89325.0</td>\n",
       "      <td>1</td>\n",
       "      <td>NaN</td>\n",
       "      <td>NaN</td>\n",
       "      <td>NaN</td>\n",
       "      <td>NaN</td>\n",
       "      <td>NaN</td>\n",
       "    </tr>\n",
       "    <tr>\n",
       "      <th>...</th>\n",
       "      <td>...</td>\n",
       "      <td>...</td>\n",
       "      <td>...</td>\n",
       "      <td>...</td>\n",
       "      <td>...</td>\n",
       "      <td>...</td>\n",
       "      <td>...</td>\n",
       "    </tr>\n",
       "    <tr>\n",
       "      <th>2017-09-23 03:00:00</th>\n",
       "      <td>NaN</td>\n",
       "      <td>NaN</td>\n",
       "      <td>102918.906250</td>\n",
       "      <td>100072.039062</td>\n",
       "      <td>100317.101562</td>\n",
       "      <td>105520.718750</td>\n",
       "      <td>105765.781250</td>\n",
       "    </tr>\n",
       "    <tr>\n",
       "      <th>2017-09-23 04:00:00</th>\n",
       "      <td>NaN</td>\n",
       "      <td>NaN</td>\n",
       "      <td>115512.109375</td>\n",
       "      <td>111221.421875</td>\n",
       "      <td>112638.765625</td>\n",
       "      <td>118385.445312</td>\n",
       "      <td>119802.789062</td>\n",
       "    </tr>\n",
       "    <tr>\n",
       "      <th>2017-09-23 05:00:00</th>\n",
       "      <td>NaN</td>\n",
       "      <td>NaN</td>\n",
       "      <td>127950.929688</td>\n",
       "      <td>124300.039062</td>\n",
       "      <td>124856.750000</td>\n",
       "      <td>131045.117188</td>\n",
       "      <td>131601.828125</td>\n",
       "    </tr>\n",
       "  </tbody>\n",
       "</table>\n",
       "<p>246 rows × 7 columns</p>\n",
       "</div>"
      ],
      "text/plain": [
       "                           y unique_id           MSTL     MSTL-lo-95  \\\n",
       "ds                                                                     \n",
       "2017-09-13 00:00:00  80115.0         1            NaN            NaN   \n",
       "2017-09-13 01:00:00  79885.0         1            NaN            NaN   \n",
       "2017-09-13 02:00:00  89325.0         1            NaN            NaN   \n",
       "...                      ...       ...            ...            ...   \n",
       "2017-09-23 03:00:00      NaN       NaN  102918.906250  100072.039062   \n",
       "2017-09-23 04:00:00      NaN       NaN  115512.109375  111221.421875   \n",
       "2017-09-23 05:00:00      NaN       NaN  127950.929688  124300.039062   \n",
       "\n",
       "                        MSTL-lo-80     MSTL-hi-80     MSTL-hi-95  \n",
       "ds                                                                \n",
       "2017-09-13 00:00:00            NaN            NaN            NaN  \n",
       "2017-09-13 01:00:00            NaN            NaN            NaN  \n",
       "2017-09-13 02:00:00            NaN            NaN            NaN  \n",
       "...                            ...            ...            ...  \n",
       "2017-09-23 03:00:00  100317.101562  105520.718750  105765.781250  \n",
       "2017-09-23 04:00:00  112638.765625  118385.445312  119802.789062  \n",
       "2017-09-23 05:00:00  124856.750000  131045.117188  131601.828125  \n",
       "\n",
       "[246 rows x 7 columns]"
      ]
     },
     "execution_count": null,
     "metadata": {},
     "output_type": "execute_result"
    }
   ],
   "source": [
    "df_plot= pd.concat([df, forecast_df]).set_index('ds')\n",
    "df_plot"
   ]
  },
  {
   "cell_type": "markdown",
   "metadata": {},
   "source": [
    "Now let's visualize the result of our forecast and the historical data of our time series, also let's draw the confidence interval that we have obtained when making the prediction with 95% confidence."
   ]
  },
  {
   "cell_type": "code",
   "execution_count": null,
   "metadata": {},
   "outputs": [],
   "source": [
    "def plot_forecasts(y_hist, y_pred, models):\n",
    "  _, ax = plt.subplots(1, 1, figsize = (20, 7))\n",
    "  df_plot = pd.concat([y_hist, y_pred]).set_index('ds').tail(12*10)\n",
    "  df_plot[['y'] + models].plot(ax=ax, linewidth=3)\n",
    "  colors = [['blue', \"red\"]]\n",
    "  for model, color in zip(models, colors):\n",
    "    ax.fill_between(df_plot.index, \n",
    "                        df_plot[f'{model}-lo-95'], \n",
    "                        df_plot[f'{model}-hi-95'],\n",
    "                        alpha=.35,\n",
    "                        color=\"blue\",\n",
    "                        label=f'{model}-level-95')\n",
    "  for model, color in zip(models, colors):\n",
    "      ax.fill_between(df_plot.index, \n",
    "                        df_plot[f'{model}-lo-80'], \n",
    "                        df_plot[f'{model}-hi-80'],\n",
    "                        alpha=.20,\n",
    "                        color=\"white\",\n",
    "                        label=f'{model}-level-80')\n",
    "  ax.set_title('', fontsize=22)\n",
    "  ax.set_ylabel(\"Ads watched (hourly data)\", fontsize=20)\n",
    "  ax.set_xlabel('Hourly', fontsize=20)\n",
    "  ax.legend(prop={'size': 20})\n",
    "  ax.grid(True)\n",
    "  plt.show()"
   ]
  },
  {
   "cell_type": "code",
   "execution_count": null,
   "metadata": {},
   "outputs": [
    {
     "data": {
      "image/png": "[encoded data removed]",
      "text/plain": [
       "<Figure size 2000x700 with 1 Axes>"
      ]
     },
     "metadata": {},
     "output_type": "display_data"
    }
   ],
   "source": [
    "plot_forecasts(df, forecast_df, models=[\"MSTL\"])"
   ]
  },
  {
   "cell_type": "markdown",
   "metadata": {},
   "source": [
    "Let's plot the same graph using the plot function that comes in `Statsforecast`, as shown below."
   ]
  },
  {
   "cell_type": "markdown",
   "metadata": {},
   "source": [
    "## Cross-validation <a class=\"anchor\" id=\"cross_validate\"></a>\n",
    "\n",
    "In previous steps, we’ve taken our historical data to predict the future. However, to asses its accuracy we would also like to know how the model would have performed in the past. To assess the accuracy and robustness of your models on your data perform Cross-Validation.\n",
    "\n",
    "With time series data, Cross Validation is done by defining a sliding window across the historical data and predicting the period following it. This form of cross-validation allows us to arrive at a better estimation of our model’s predictive abilities across a wider range of temporal instances while also keeping the data in the training set contiguous as is required by our models.\n",
    "\n",
    "The following graph depicts such a Cross Validation Strategy:\n",
    "\n",
    "![](https://raw.githubusercontent.com/Nixtla/statsforecast/main/nbs/imgs/ChainedWindows.gif)"
   ]
  },
  {
   "cell_type": "markdown",
   "metadata": {},
   "source": [
    "### Perform time series cross-validation\n",
    "\n",
    "Cross-validation of time series models is considered a best practice but most implementations are very slow. The statsforecast library implements cross-validation as a distributed operation, making the process less time-consuming to perform. If you have big datasets you can also perform Cross Validation in a distributed cluster using Ray, Dask or Spark.\n",
    "\n",
    "In this case, we want to evaluate the performance of each model for the last 5 months `(n_windows=)`, forecasting every second months `(step_size=50)`. Depending on your computer, this step should take around 1 min.\n",
    "\n",
    "The cross_validation method from the StatsForecast class takes the following arguments.\n",
    "\n",
    "* `df:` training data frame\n",
    "\n",
    "* `h (int):` represents h steps into the future that are being forecasted. In this case, 500 hours ahead.\n",
    "\n",
    "* `step_size (int):` step size between each window. In other words: how often do you want to run the forecasting processes.\n",
    "\n",
    "* `n_windows(int):` number of windows used for cross validation. In other words: what number of forecasting processes in the past do you want to evaluate."
   ]
  },
  {
   "cell_type": "code",
   "execution_count": null,
   "metadata": {},
   "outputs": [],
   "source": [
    "crossvalidation_df = sf.cross_validation(df=df,\n",
    "                                         h=horizon,\n",
    "                                         step_size=30,\n",
    "                                         n_windows=5)"
   ]
  },
  {
   "cell_type": "markdown",
   "metadata": {},
   "source": [
    "The crossvaldation_df object is a new data frame that includes the following columns:\n",
    "\n",
    "* `unique_id:` index. If you dont like working with index just run `crossvalidation_df.resetindex()`.\n",
    "* `ds:` datestamp or temporal index\n",
    "* `cutoff:` the last datestamp or temporal index for the `n_windows`.\n",
    "* `y:` true value\n",
    "* `model:` columns with the model’s name and fitted value."
   ]
  },
  {
   "cell_type": "code",
   "execution_count": null,
   "metadata": {},
   "outputs": [
    {
     "data": {
      "text/html": [
       "<div>\n",
       "<style scoped>\n",
       "    .dataframe tbody tr th:only-of-type {\n",
       "        vertical-align: middle;\n",
       "    }\n",
       "\n",
       "    .dataframe tbody tr th {\n",
       "        vertical-align: top;\n",
       "    }\n",
       "\n",
       "    .dataframe thead th {\n",
       "        text-align: right;\n",
       "    }\n",
       "</style>\n",
       "<table border=\"1\" class=\"dataframe\">\n",
       "  <thead>\n",
       "    <tr style=\"text-align: right;\">\n",
       "      <th></th>\n",
       "      <th>ds</th>\n",
       "      <th>cutoff</th>\n",
       "      <th>y</th>\n",
       "      <th>MSTL</th>\n",
       "    </tr>\n",
       "    <tr>\n",
       "      <th>unique_id</th>\n",
       "      <th></th>\n",
       "      <th></th>\n",
       "      <th></th>\n",
       "      <th></th>\n",
       "    </tr>\n",
       "  </thead>\n",
       "  <tbody>\n",
       "    <tr>\n",
       "      <th>1</th>\n",
       "      <td>2017-09-15 18:00:00</td>\n",
       "      <td>2017-09-15 17:00:00</td>\n",
       "      <td>159725.0</td>\n",
       "      <td>158384.250000</td>\n",
       "    </tr>\n",
       "    <tr>\n",
       "      <th>1</th>\n",
       "      <td>2017-09-15 19:00:00</td>\n",
       "      <td>2017-09-15 17:00:00</td>\n",
       "      <td>161085.0</td>\n",
       "      <td>162015.171875</td>\n",
       "    </tr>\n",
       "    <tr>\n",
       "      <th>1</th>\n",
       "      <td>2017-09-15 20:00:00</td>\n",
       "      <td>2017-09-15 17:00:00</td>\n",
       "      <td>135520.0</td>\n",
       "      <td>138495.093750</td>\n",
       "    </tr>\n",
       "    <tr>\n",
       "      <th>...</th>\n",
       "      <td>...</td>\n",
       "      <td>...</td>\n",
       "      <td>...</td>\n",
       "      <td>...</td>\n",
       "    </tr>\n",
       "    <tr>\n",
       "      <th>1</th>\n",
       "      <td>2017-09-21 21:00:00</td>\n",
       "      <td>2017-09-20 17:00:00</td>\n",
       "      <td>103080.0</td>\n",
       "      <td>98109.875000</td>\n",
       "    </tr>\n",
       "    <tr>\n",
       "      <th>1</th>\n",
       "      <td>2017-09-21 22:00:00</td>\n",
       "      <td>2017-09-20 17:00:00</td>\n",
       "      <td>95155.0</td>\n",
       "      <td>86342.015625</td>\n",
       "    </tr>\n",
       "    <tr>\n",
       "      <th>1</th>\n",
       "      <td>2017-09-21 23:00:00</td>\n",
       "      <td>2017-09-20 17:00:00</td>\n",
       "      <td>80285.0</td>\n",
       "      <td>76815.976562</td>\n",
       "    </tr>\n",
       "  </tbody>\n",
       "</table>\n",
       "<p>150 rows × 4 columns</p>\n",
       "</div>"
      ],
      "text/plain": [
       "                           ds              cutoff         y           MSTL\n",
       "unique_id                                                                 \n",
       "1         2017-09-15 18:00:00 2017-09-15 17:00:00  159725.0  158384.250000\n",
       "1         2017-09-15 19:00:00 2017-09-15 17:00:00  161085.0  162015.171875\n",
       "1         2017-09-15 20:00:00 2017-09-15 17:00:00  135520.0  138495.093750\n",
       "...                       ...                 ...       ...            ...\n",
       "1         2017-09-21 21:00:00 2017-09-20 17:00:00  103080.0   98109.875000\n",
       "1         2017-09-21 22:00:00 2017-09-20 17:00:00   95155.0   86342.015625\n",
       "1         2017-09-21 23:00:00 2017-09-20 17:00:00   80285.0   76815.976562\n",
       "\n",
       "[150 rows x 4 columns]"
      ]
     },
     "execution_count": null,
     "metadata": {},
     "output_type": "execute_result"
    }
   ],
   "source": [
    "crossvalidation_df"
   ]
  },
  {
   "cell_type": "markdown",
   "metadata": {},
   "source": [
    "We’ll now plot the forecast for each cutoff period. To make the plots clearer, we’ll rename the actual values in each period."
   ]
  },
  {
   "cell_type": "code",
   "execution_count": null,
   "metadata": {},
   "outputs": [],
   "source": [
    "cross_validation=crossvalidation_df.copy()\n",
    "cross_validation.rename(columns = {'y' : 'actual'}, inplace = True) # rename actual values \n",
    "\n",
    "cutoff = cross_validation['cutoff'].unique()\n",
    "\n",
    "for k in range(len(cutoff)): \n",
    "    cv = cross_validation[cross_validation['cutoff'] == cutoff[k]]\n",
    "    StatsForecast.plot(df, cv.loc[:, cv.columns != 'cutoff'])"
   ]
  },
  {
   "cell_type": "markdown",
   "metadata": {},
   "source": [
    "## Model Evaluation <a class=\"anchor\" id=\"evaluate\"></a>\n",
    "\n",
    "We can now compute the accuracy of the forecast using an appropiate accuracy metric. Here we’ll use the Root Mean Squared Error (RMSE). To do this, we first need to `install datasetsforecast`, a Python library developed **by Nixtla** that includes a function to compute the RMSE."
   ]
  },
  {
   "cell_type": "code",
   "execution_count": null,
   "metadata": {},
   "outputs": [],
   "source": [
    "%%capture\n",
    "!pip install datasetsforecast"
   ]
  },
  {
   "cell_type": "code",
   "execution_count": null,
   "metadata": {},
   "outputs": [],
   "source": [
    "from datasetsforecast.losses import rmse"
   ]
  },
  {
   "cell_type": "markdown",
   "metadata": {},
   "source": [
    "The function to compute the RMSE takes two arguments:\n",
    "\n",
    "1. The actual values.\n",
    "2. The forecasts, in this case, `MSTL Model`."
   ]
  },
  {
   "cell_type": "code",
   "execution_count": null,
   "metadata": {},
   "outputs": [
    {
     "name": "stdout",
     "output_type": "stream",
     "text": [
      "RMSE using cross-validation:  12548.12\n"
     ]
    }
   ],
   "source": [
    "rmse = rmse(cross_validation['actual'], cross_validation[\"MSTL\"])\n",
    "print(\"RMSE using cross-validation: \", rmse)"
   ]
  },
  {
   "cell_type": "markdown",
   "metadata": {},
   "source": [
    "## Acknowledgements\n",
    "\n",
    "We would like to thank [Naren Castellon](https://www.linkedin.com/in/naren-castellon-1541b8101/?originalSubdomain=pa) for writing this tutorial."
   ]
  },
  {
   "cell_type": "markdown",
   "metadata": {},
   "source": [
    "## References <a class=\"anchor\" id=\"references\"></a>\n",
    "\n",
    "\n",
    "1. Changquan Huang • Alla Petukhina. Springer series (2022). Applied Time Series Analysis and Forecasting with Python. \n",
    "2. Ivan Svetunkov. [Forecasting and Analytics with the Augmented Dynamic Adaptive Model (ADAM)](https://openforecast.org/adam/)\n",
    "3. [James D. Hamilton. Time Series Analysis Princeton University Press, Princeton, New Jersey, 1st Edition, 1994.](https://press.princeton.edu/books/hardcover/9780691042893/time-series-analysis)\n",
    "4. [Nixtla Parameters](https://nixtla.github.io/statsforecast/src/core/models.html#arch-model).\n",
    "5. [Pandas available frequencies](https://pandas.pydata.org/pandas-docs/stable/user_guide/timeseries.html#offset-aliases).\n",
    "6. [Rob J. Hyndman and George Athanasopoulos (2018). “Forecasting principles and practice, Time series cross-validation”.](https://otexts.com/fpp3/tscv.html).\n",
    "7. [Seasonal periods- Rob J Hyndman](https://robjhyndman.com/hyndsight/seasonal-periods/)."
   ]
  }
 ],
 "metadata": {
  "kernelspec": {
   "display_name": "python3",
   "language": "python",
   "name": "python3"
  }
 },
 "nbformat": 4,
 "nbformat_minor": 4
}
